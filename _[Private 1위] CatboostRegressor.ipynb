{
 "cells": [
  {
   "cell_type": "markdown",
   "metadata": {
    "id": "Djm6wAZ9J9H0"
   },
   "source": [
    "# 라이브러리 설치"
   ]
  },
  {
   "cell_type": "code",
   "execution_count": 15,
   "metadata": {
    "colab": {
     "base_uri": "https://localhost:8080/"
    },
    "id": "4wZoxTNRJ8ZE",
    "outputId": "9158053c-4077-4985-9f32-f8863d0ef418"
   },
   "outputs": [
    {
     "name": "stdout",
     "output_type": "stream",
     "text": [
      "Requirement already satisfied: catboost in c:\\programdata\\miniconda3\\envs\\test4\\lib\\site-packages (1.1.1)\n",
      "Requirement already satisfied: pandas>=0.24.0 in c:\\programdata\\miniconda3\\envs\\test4\\lib\\site-packages (from catboost) (1.3.5)\n",
      "Requirement already satisfied: graphviz in c:\\programdata\\miniconda3\\envs\\test4\\lib\\site-packages (from catboost) (0.20.1)\n",
      "Requirement already satisfied: numpy>=1.16.0 in c:\\programdata\\miniconda3\\envs\\test4\\lib\\site-packages (from catboost) (1.21.6)\n",
      "Requirement already satisfied: matplotlib in c:\\programdata\\miniconda3\\envs\\test4\\lib\\site-packages (from catboost) (3.5.3)\n",
      "Requirement already satisfied: plotly in c:\\programdata\\miniconda3\\envs\\test4\\lib\\site-packages (from catboost) (5.13.1)\n",
      "Requirement already satisfied: scipy in c:\\programdata\\miniconda3\\envs\\test4\\lib\\site-packages (from catboost) (1.7.3)\n",
      "Requirement already satisfied: six in c:\\programdata\\miniconda3\\envs\\test4\\lib\\site-packages (from catboost) (1.16.0)\n",
      "Requirement already satisfied: python-dateutil>=2.7.3 in c:\\programdata\\miniconda3\\envs\\test4\\lib\\site-packages (from pandas>=0.24.0->catboost) (2.8.2)\n",
      "Requirement already satisfied: pytz>=2017.3 in c:\\programdata\\miniconda3\\envs\\test4\\lib\\site-packages (from pandas>=0.24.0->catboost) (2022.7.1)\n",
      "Requirement already satisfied: packaging>=20.0 in c:\\programdata\\miniconda3\\envs\\test4\\lib\\site-packages (from matplotlib->catboost) (23.0)\n",
      "Requirement already satisfied: kiwisolver>=1.0.1 in c:\\programdata\\miniconda3\\envs\\test4\\lib\\site-packages (from matplotlib->catboost) (1.4.4)\n",
      "Requirement already satisfied: pillow>=6.2.0 in c:\\programdata\\miniconda3\\envs\\test4\\lib\\site-packages (from matplotlib->catboost) (9.4.0)\n",
      "Requirement already satisfied: pyparsing>=2.2.1 in c:\\programdata\\miniconda3\\envs\\test4\\lib\\site-packages (from matplotlib->catboost) (3.0.9)\n",
      "Requirement already satisfied: fonttools>=4.22.0 in c:\\programdata\\miniconda3\\envs\\test4\\lib\\site-packages (from matplotlib->catboost) (4.38.0)\n",
      "Requirement already satisfied: cycler>=0.10 in c:\\programdata\\miniconda3\\envs\\test4\\lib\\site-packages (from matplotlib->catboost) (0.11.0)\n",
      "Requirement already satisfied: tenacity>=6.2.0 in c:\\programdata\\miniconda3\\envs\\test4\\lib\\site-packages (from plotly->catboost) (8.2.2)\n",
      "Requirement already satisfied: typing-extensions in c:\\programdata\\miniconda3\\envs\\test4\\lib\\site-packages (from kiwisolver>=1.0.1->matplotlib->catboost) (4.5.0)\n",
      "Requirement already satisfied: scikit-learn in c:\\programdata\\miniconda3\\envs\\test4\\lib\\site-packages (1.0.2)\n",
      "Requirement already satisfied: scipy>=1.1.0 in c:\\programdata\\miniconda3\\envs\\test4\\lib\\site-packages (from scikit-learn) (1.7.3)\n",
      "Requirement already satisfied: numpy>=1.14.6 in c:\\programdata\\miniconda3\\envs\\test4\\lib\\site-packages (from scikit-learn) (1.21.6)\n",
      "Requirement already satisfied: joblib>=0.11 in c:\\programdata\\miniconda3\\envs\\test4\\lib\\site-packages (from scikit-learn) (1.2.0)\n",
      "Requirement already satisfied: threadpoolctl>=2.0.0 in c:\\programdata\\miniconda3\\envs\\test4\\lib\\site-packages (from scikit-learn) (3.1.0)\n",
      "Requirement already satisfied: numpy in c:\\programdata\\miniconda3\\envs\\test4\\lib\\site-packages (1.21.6)\n",
      "Requirement already satisfied: pandas in c:\\programdata\\miniconda3\\envs\\test4\\lib\\site-packages (1.3.5)\n",
      "Requirement already satisfied: python-dateutil>=2.7.3 in c:\\programdata\\miniconda3\\envs\\test4\\lib\\site-packages (from pandas) (2.8.2)\n",
      "Requirement already satisfied: numpy>=1.17.3 in c:\\programdata\\miniconda3\\envs\\test4\\lib\\site-packages (from pandas) (1.21.6)\n",
      "Requirement already satisfied: pytz>=2017.3 in c:\\programdata\\miniconda3\\envs\\test4\\lib\\site-packages (from pandas) (2022.7.1)\n",
      "Requirement already satisfied: six>=1.5 in c:\\programdata\\miniconda3\\envs\\test4\\lib\\site-packages (from python-dateutil>=2.7.3->pandas) (1.16.0)\n"
     ]
    }
   ],
   "source": [
    "# -*- coding: utf-8 -*-\n",
    "\n",
    "!pip install catboost\n",
    "!pip install -U scikit-learn\n",
    "!pip install numpy\n",
    "!pip install pandas"
   ]
  },
  {
   "cell_type": "markdown",
   "metadata": {
    "id": "qmg0AFYvKDBh"
   },
   "source": [
    "# Import"
   ]
  },
  {
   "cell_type": "code",
   "execution_count": 2,
   "metadata": {
    "id": "H7IObFOYKYjX"
   },
   "outputs": [],
   "source": [
    "import os\n",
    "import random\n",
    "import pandas as pd\n",
    "import numpy as np\n",
    "import sklearn\n",
    "import catboost\n",
    "\n",
    "from sklearn.preprocessing import LabelEncoder\n",
    "from sklearn.metrics import f1_score\n",
    "from datetime import datetime"
   ]
  },
  {
   "cell_type": "code",
   "execution_count": 3,
   "metadata": {
    "id": "fAUoKSy1KhW6"
   },
   "outputs": [],
   "source": [
    "def seed_everything(seed):\n",
    "    random.seed(seed)\n",
    "    os.environ['PYTHONHASHSEED'] = str(seed)\n",
    "    np.random.seed(seed)\n",
    "seed_everything(37) # Seed 고정"
   ]
  },
  {
   "cell_type": "markdown",
   "metadata": {
    "id": "c0QQjXE0Kjjg"
   },
   "source": [
    "# Data Load"
   ]
  },
  {
   "cell_type": "code",
   "execution_count": 4,
   "metadata": {
    "id": "9ZsiqsigKpCx"
   },
   "outputs": [],
   "source": [
    "train_df = pd.read_csv('./train.csv')\n",
    "test_df = pd.read_csv('./test.csv')"
   ]
  },
  {
   "cell_type": "markdown",
   "metadata": {
    "id": "QFk7J2jQKqoQ"
   },
   "source": [
    "# Data Pre-processing"
   ]
  },
  {
   "cell_type": "code",
   "execution_count": 5,
   "metadata": {
    "id": "D-T6_IKzKzmn"
   },
   "outputs": [],
   "source": [
    "#TIMESTAMP 피쳐를 datetime으로 나누기\n",
    "tr_month =[]\n",
    "tr_day = []\n",
    "tr_hour =[]\n",
    "tr_minute = []\n",
    "for i in range(train_df.shape[0]):\n",
    "  tr_month.append(datetime.strptime(train_df.iloc[i,:]['TIMESTAMP'],'%Y-%m-%d %H:%M').month)\n",
    "  tr_day.append(datetime.strptime(train_df.iloc[i,:]['TIMESTAMP'],'%Y-%m-%d %H:%M').day)\n",
    "  tr_hour.append(datetime.strptime(train_df.iloc[i,:]['TIMESTAMP'],'%Y-%m-%d %H:%M').hour)\n",
    "  tr_minute.append(datetime.strptime(train_df.iloc[i,:]['TIMESTAMP'],'%Y-%m-%d %H:%M').minute)\n",
    "\n",
    "train_df['MONTH'] = tr_month\n",
    "train_df['DAY'] = tr_day\n",
    "train_df['HOUR'] = tr_hour\n",
    "train_df['MINUTE'] = tr_minute\n",
    "\n",
    "te_month =[]\n",
    "te_day = []\n",
    "te_hour =[]\n",
    "te_minute = []\n",
    "for i in range(test_df.shape[0]):\n",
    "  te_month.append(datetime.strptime(test_df.iloc[i,:]['TIMESTAMP'],'%Y-%m-%d %H:%M').month)\n",
    "  te_day.append(datetime.strptime(test_df.iloc[i,:]['TIMESTAMP'],'%Y-%m-%d %H:%M').day)\n",
    "  te_hour.append(datetime.strptime(test_df.iloc[i,:]['TIMESTAMP'],'%Y-%m-%d %H:%M').hour)\n",
    "  te_minute.append(datetime.strptime(test_df.iloc[i,:]['TIMESTAMP'],'%Y-%m-%d %H:%M').minute)\n",
    "\n",
    "test_df['MONTH'] = te_month\n",
    "test_df['DAY'] = te_day\n",
    "test_df['HOUR'] = te_hour\n",
    "test_df['MINUTE'] = te_minute"
   ]
  },
  {
   "cell_type": "code",
   "execution_count": 6,
   "metadata": {
    "id": "orSaQDyzK06B"
   },
   "outputs": [],
   "source": [
    "# TIMESTAMP 피쳐 제거\n",
    "train_df=train_df.drop(columns=['TIMESTAMP'])\n",
    "test_df=test_df.drop(columns=['TIMESTAMP'])\n",
    "\n",
    "#전부 NAN값인 피쳐 제거\n",
    "a=[]\n",
    "A = pd.DataFrame(train_df.isnull().sum(),columns=['sum'])\n",
    "a = list(A[A['sum']==train_df.shape[0]].index)\n",
    "train_df.drop(columns=a,inplace=True)\n",
    "test_df.drop(columns=a, inplace=True)\n",
    "\n",
    "#분산이 1인 피쳐 제거\n",
    "a=[]\n",
    "for c in train_df.columns:\n",
    "  if  train_df[c].nunique()==1:\n",
    "    a.append(c)\n",
    "train_df.drop(columns=a, inplace=True)\n",
    "test_df.drop(columns=a, inplace=True)"
   ]
  },
  {
   "cell_type": "code",
   "execution_count": 7,
   "metadata": {
    "id": "tKS-GriiLHyN"
   },
   "outputs": [],
   "source": [
    "# 3,4번 라인 피쳐 분석\n",
    "groups_lines=train_df.groupby('LINE')\n",
    "line=0\n",
    "for name, group in groups_lines:\n",
    "    line+=1\n",
    "    globals()['group_line{}_df'.format(line)] = groups_lines.get_group(name)\n",
    "non_null_counts_3 = group_line3_df.notnull().sum()\n",
    "non_null_cols_3 = non_null_counts_3[non_null_counts_3 > 0].index.tolist()\n",
    "\n",
    "grouped3 = group_line3_df.groupby(group_line3_df.isnull().apply(tuple, axis=1))\n",
    "cnt=0\n",
    "for name, group in grouped3:\n",
    "    cnt+=1\n",
    "    globals()['line3_{}_df'.format(cnt)] = grouped3.get_group(name)\n",
    "for i in range(1,cnt+1):\n",
    "  globals()['non_null_cols3_{}'.format(i)] = globals()['line3_{}_df'.format(i)].columns[globals()['line3_{}_df'.format(i)].notnull().all()].tolist()\n",
    "  del globals()['non_null_cols3_{}'.format(i)][globals()['non_null_cols3_{}'.format(i)].index('PRODUCT_ID')]\n",
    "\n",
    "grouped4 = group_line4_df.groupby(group_line4_df.isnull().apply(tuple, axis=1))\n",
    "cnt=0\n",
    "for name, group in grouped4:\n",
    "    cnt+=1\n",
    "    globals()['line4_{}_df'.format(cnt)] = grouped4.get_group(name)\n",
    "for i in range(1,cnt+1):\n",
    "  globals()['non_null_cols4_{}'.format(i)] = globals()['line4_{}_df'.format(i)].columns[globals()['line4_{}_df'.format(i)].notnull().all()].tolist()\n",
    "  del globals()['non_null_cols4_{}'.format(i)][globals()['non_null_cols4_{}'.format(i)].index('PRODUCT_ID')]\n",
    "\n",
    "# 3번라인과 4번라인 피쳐들의 합집합구하기\n",
    "col_34=[]\n",
    "for i in non_null_cols3_3:\n",
    "  if i not in col_34:\n",
    "    col_34.append(i)\n",
    "for j in non_null_cols4_1:\n",
    "  if j not in col_34:\n",
    "    col_34.append(j)\n",
    "\n",
    "# 3,4번 라인 튜닝용 데이터 셋 저장 \n",
    "col_34_train = col_34\n",
    "train_x = train_df[col_34_train]\n",
    "col_34_test = col_34\n",
    "del col_34_test[col_34_test.index('Y_Quality')]\n",
    "del col_34_test[col_34_test.index('Y_Class')]\n",
    "test_x = test_df[col_34_test]\n",
    "\n",
    "train_x34 = train_x[train_x['LINE'].isin(['T050304','T050307'])]\n",
    "test_x34 = test_x[test_x['LINE'].isin(['T050304','T050307'])]"
   ]
  },
  {
   "cell_type": "code",
   "execution_count": 8,
   "metadata": {
    "id": "L0DSRQpYLU-3"
   },
   "outputs": [],
   "source": [
    "# 전체 학습용 데이터 결측값 전처리\n",
    "train_x = train_df.drop(columns=['PRODUCT_ID'])\n",
    "test_x = test_df.drop(columns=['PRODUCT_ID'])\n",
    "train_x = train_x.fillna(0)\n",
    "test_x = test_x.fillna(0)"
   ]
  },
  {
   "cell_type": "code",
   "execution_count": 9,
   "metadata": {
    "id": "gipGd6roLYNX"
   },
   "outputs": [],
   "source": [
    "qual_col = ['LINE', 'PRODUCT_CODE']\n",
    "for i in qual_col:\n",
    "    le = LabelEncoder()\n",
    "    le = le.fit(train_x[i])\n",
    "    train_x[i] = le.transform(train_x[i])\n",
    "    \n",
    "    for label in np.unique(test_x[i]): \n",
    "        if label not in le.classes_: \n",
    "            le.classes_ = np.append(le.classes_, label)\n",
    "    test_x[i] = le.transform(test_x[i]) \n",
    "\n",
    "train_y = train_x['Y_Quality']\n",
    "train_yy = train_x['Y_Class']\n",
    "train_x.drop(columns=['Y_Quality','Y_Class'],inplace=True)"
   ]
  },
  {
   "cell_type": "code",
   "execution_count": 10,
   "metadata": {
    "id": "a_cA15J-LsDg"
   },
   "outputs": [],
   "source": [
    "for i,c in enumerate(train_x34.columns[~train_x34.columns.isin(['Y_Quality','Y_Class','LINE','PRODUCT_CODE'])]):\n",
    "  train_x34[c].fillna(0,inplace=True)\n",
    "  test_x34[c].fillna(0,inplace=True)\n",
    "\n",
    "yy_train34 = train_x34['Y_Class']\n",
    "train_x34 = train_x34.drop(columns=['Y_Class', 'Y_Quality','LINE','PRODUCT_CODE'])\n",
    "test_x34 = test_x34.drop(columns=['LINE','PRODUCT_CODE'])"
   ]
  },
  {
   "cell_type": "markdown",
   "metadata": {
    "id": "WQLf43lJLbwI"
   },
   "source": [
    "# Model Fit & Inference"
   ]
  },
  {
   "cell_type": "code",
   "execution_count": 11,
   "metadata": {
    "id": "EER2tLf_LaeT"
   },
   "outputs": [],
   "source": [
    "# regressor\n",
    "reg = catboost.CatBoostRegressor(learning_rate=0.05, iterations=500, verbose=0)\n",
    "reg.fit(train_x, train_y, early_stopping_rounds=100, cat_features=['PRODUCT_CODE', 'LINE'])\n",
    "\n",
    "pre_preds = reg.predict(test_x)\n",
    "\n",
    "a = train_df[['Y_Class','Y_Quality']].groupby('Y_Class').agg(['mean', 'min', 'max', 'count'])\n",
    "\n",
    "preds=[]\n",
    "for p in pre_preds:\n",
    "  if p<=a[('Y_Quality','max')][0]:\n",
    "    preds.append(0)\n",
    "  elif p<=a[('Y_Quality','min')][2]:\n",
    "    preds.append(1)\n",
    "  else:\n",
    "    preds.append(2)\n",
    "\n",
    "RR = test_x"
   ]
  },
  {
   "cell_type": "code",
   "execution_count": 12,
   "metadata": {
    "id": "5i2hS1y-LisJ"
   },
   "outputs": [],
   "source": [
    "# 3,4 line classifier\n",
    "clf = catboost.CatBoostClassifier(random_seed=37,iterations=500, verbose=0)\n",
    "clf.fit(train_x34, yy_train34)\n",
    "y_preds = clf.predict(test_x34)\n",
    "\n",
    "a = RR[(RR['LINE']==2)|(RR['LINE']==3)].index\n",
    "temp = preds\n",
    "for i in range(len(a)):\n",
    "  temp[a[i]]=y_preds[i][0]"
   ]
  },
  {
   "cell_type": "markdown",
   "metadata": {
    "id": "RXh0Xy6aL3rK"
   },
   "source": [
    "# Submit"
   ]
  },
  {
   "cell_type": "code",
   "execution_count": 13,
   "metadata": {
    "colab": {
     "base_uri": "https://localhost:8080/"
    },
    "id": "UGdr2UrCJv4d",
    "outputId": "3e4cac14-cfd8-4dea-b77c-2f8f23a2fea1"
   },
   "outputs": [],
   "source": [
    "submit = pd.read_csv('./sample_submission.csv')\n",
    "submit['Y_Class'] = temp\n",
    "submit.to_csv('./sample_submission.csv', index=False)"
   ]
  },
  {
   "cell_type": "code",
   "execution_count": null,
   "metadata": {},
   "outputs": [],
   "source": []
  }
 ],
 "metadata": {
  "colab": {
   "provenance": []
  },
  "gpuClass": "standard",
  "kernelspec": {
   "display_name": "Python 3 (ipykernel)",
   "language": "python",
   "name": "python3"
  },
  "language_info": {
   "codemirror_mode": {
    "name": "ipython",
    "version": 3
   },
   "file_extension": ".py",
   "mimetype": "text/x-python",
   "name": "python",
   "nbconvert_exporter": "python",
   "pygments_lexer": "ipython3",
   "version": "3.7.16"
  }
 },
 "nbformat": 4,
 "nbformat_minor": 1
}
