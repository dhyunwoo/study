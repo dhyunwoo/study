{
  "cells": [
    {
      "cell_type": "markdown",
      "source": [
        "# 개발환경\n"
      ],
      "metadata": {
        "id": "T3RbR2aFQDoP"
      }
    },
    {
      "cell_type": "markdown",
      "source": [
        "######운영체제 : window 64 bit  \n",
        "######언어 : 파이썬  \n",
        "######라이브러리 버젼 :\n",
        "\n",
        "*   Python - 3.7.14\n",
        "*   pandas - 1.3.5\n",
        "*   numpy - 1.21.5\n",
        "*   xgboost - 0.90\n",
        "*   scikit-learn - 1.0.2\n",
        "*   tqdm - 4.64.1\n",
        "\n",
        "\n",
        "\n",
        "\n",
        "\n",
        "\n",
        "\n",
        "\n",
        "\n",
        "\n"
      ],
      "metadata": {
        "id": "XX44mvxeQMQp"
      }
    },
    {
      "cell_type": "markdown",
      "source": [
        "패키지 로드"
      ],
      "metadata": {
        "id": "NmWgDxmmTJ5m"
      }
    },
    {
      "cell_type": "code",
      "source": [
        "! pip install xgboost==0.90\n",
        "! pip install numpy==1.21.5\n",
        "! pip install pandas==1.3.5\n",
        "! pip install scikit-learn==1.0.2\n",
        "! pip install datetime\n",
        "! pip install tqdm"
      ],
      "metadata": {
        "colab": {
          "base_uri": "https://localhost:8080/"
        },
        "id": "XibGntoOKQcn",
        "outputId": "3245f078-feea-48d7-f119-eb86806285d0"
      },
      "execution_count": 6,
      "outputs": [
        {
          "output_type": "stream",
          "name": "stdout",
          "text": [
            "Looking in indexes: https://pypi.org/simple, https://us-python.pkg.dev/colab-wheels/public/simple/\n",
            "Requirement already satisfied: xgboost==0.90 in /usr/local/lib/python3.7/dist-packages (0.90)\n",
            "Requirement already satisfied: scipy in /usr/local/lib/python3.7/dist-packages (from xgboost==0.90) (1.7.3)\n",
            "Requirement already satisfied: numpy in /usr/local/lib/python3.7/dist-packages (from xgboost==0.90) (1.21.6)\n"
          ]
        }
      ]
    },
    {
      "cell_type": "code",
      "execution_count": 10,
      "metadata": {
        "id": "YSfil4caQ6oX"
      },
      "outputs": [],
      "source": [
        "# -*- coding: utf-8 -*-\n",
        "import pandas as pd\n",
        "import numpy as np\n",
        "from tqdm import tqdm\n",
        "import xgboost as xgb\n",
        "from sklearn.preprocessing import StandardScaler\n",
        "from sklearn.model_selection import cross_validate\n",
        "from datetime import datetime, timedelta\n",
        "import copy\n",
        "import zipfile"
      ]
    },
    {
      "cell_type": "markdown",
      "source": [
        "날짜를 시간을 제외하고 년도월일 형태로 변환하는 함수"
      ],
      "metadata": {
        "id": "0uxkAkUKTZDX"
      }
    },
    {
      "cell_type": "code",
      "source": [
        "def change_year(date):\n",
        "    date = date[:10].replace(\"-\",\"\")\n",
        "    return date"
      ],
      "metadata": {
        "id": "EnTYmckrTYjO"
      },
      "execution_count": null,
      "outputs": []
    },
    {
      "cell_type": "markdown",
      "source": [
        "장비들이 작동하고 있는 시간만 추출하는 함수"
      ],
      "metadata": {
        "id": "LOFFjiq9TRPO"
      }
    },
    {
      "cell_type": "code",
      "source": [
        "def filter_pump(x):\n",
        "    return x[x['펌프작동남은시간']!=0]\n",
        "\n",
        "def filter_cold(x):\n",
        "    return x[x['냉방작동남은시간']!=0]\n",
        "\n",
        "def filter_hot(x):\n",
        "    return x[x['난방작동남은시간']!=0]\n",
        "\n",
        "def filter_inside_air(x):\n",
        "    return x[x['내부유동팬작동남은시간']!=0]\n",
        "\n",
        "def filter_outside_air(x):\n",
        "    return x[x['외부환기팬작동남은시간']!=0]\n",
        "\n",
        "def filter_white(x):\n",
        "    return x[x['화이트 LED작동남은시간']!=0]\n",
        "\n",
        "def filter_blue(x):\n",
        "    return x[x['블루 LED작동남은시간']!=0]\n",
        "\n",
        "def filter_red(x):\n",
        "    return x[x['레드 LED작동남은시간']!=0]\n",
        "\n",
        "def filter_total_red(x):\n",
        "    return x[x['적색광추정광량']!=0]\n",
        "\n",
        "def filter_total_blue(x):\n",
        "    return x[x['청색광추정광량']!=0]\n",
        "\n",
        "def filter_total_white(x):\n",
        "    return x[x['백색광추정광량']!=0]\n",
        "\n",
        "def is_in(type_list, type_dict, i):\n",
        "    try:\n",
        "        type_list.append(type_dict[i])\n",
        "    except:\n",
        "        type_list.append(0)"
      ],
      "metadata": {
        "id": "azWpO-Lf-kty"
      },
      "execution_count": null,
      "outputs": []
    },
    {
      "cell_type": "markdown",
      "source": [
        "컬럼 추가/삭제 함수"
      ],
      "metadata": {
        "id": "I__QCTKPTwMI"
      }
    },
    {
      "cell_type": "code",
      "source": [
        "def change_col(particular_case):\n",
        "    particular_case['시간'] = particular_case['시간'].apply(change_year)\n",
        "    day_list = list(particular_case['시간'].drop_duplicates(keep='first'))\n",
        "    group_df = particular_case.groupby('시간')\n",
        "    \n",
        "    pump_list = []\n",
        "    group_pump = group_df.apply(filter_pump)\n",
        "    pump_dict = group_pump['시간'].value_counts().to_dict()\n",
        "    \n",
        "    cold_list = []\n",
        "    group_cold = group_df.apply(filter_cold)\n",
        "    cold_dict = group_cold['시간'].value_counts().to_dict()\n",
        "     \n",
        "    hot_list = []\n",
        "    group_hot = group_df.apply(filter_hot)\n",
        "    hot_dict = group_hot['시간'].value_counts().to_dict()\n",
        "    \n",
        "    inside_list = []\n",
        "    group_inside = group_df.apply(filter_inside_air)\n",
        "    inside_dict = group_inside['시간'].value_counts().to_dict()\n",
        "    \n",
        "    outside_list = []\n",
        "    group_outside = group_df.apply(filter_outside_air)\n",
        "    outside_dict = group_outside['시간'].value_counts().to_dict()\n",
        "    \n",
        "    white_list = []\n",
        "    group_white = group_df.apply(filter_white)\n",
        "    white_dict = group_white['시간'].value_counts().to_dict()\n",
        "    \n",
        "    blue_list = []\n",
        "    group_blue = group_df.apply(filter_blue)\n",
        "    blue_dict = group_blue['시간'].value_counts().to_dict()\n",
        "    \n",
        "    red_list = []\n",
        "    group_red = group_df.apply(filter_red)\n",
        "    red_dict = group_red['시간'].value_counts().to_dict()\n",
        "    \n",
        "    total_red_list = []\n",
        "    group_total_red = group_df.apply(filter_total_red)\n",
        "    group_total_red = group_total_red.reset_index(drop=True)\n",
        "    group_total_red = group_total_red.groupby('시간')\n",
        "    total_red_dict = (group_total_red['적색광추정광량'].max() - group_total_red['적색광추정광량'].min()).dropna().to_dict()\n",
        "    \n",
        "    max_red = []\n",
        "    max_red_dict = group_total_red['적색광추정광량'].max().to_dict()\n",
        "    min_red = []\n",
        "    min_red_dict = group_total_red['적색광추정광량'].min().to_dict()\n",
        "    \n",
        "    total_blue_list = []\n",
        "    group_total_blue = group_df.apply(filter_total_blue)\n",
        "    group_total_blue = group_total_blue.reset_index(drop=True)\n",
        "    group_total_blue = group_total_blue.groupby('시간')\n",
        "    total_blue_dict = (group_total_blue['청색광추정광량'].max() - group_total_blue['청색광추정광량'].min()).dropna().to_dict()\n",
        "    \n",
        "    max_blue = []\n",
        "    max_blue_dict = group_total_blue['청색광추정광량'].max().to_dict()\n",
        "    min_blue = []\n",
        "    min_blue_dict = group_total_blue['청색광추정광량'].min().to_dict()\n",
        "    \n",
        "    total_white_list = []\n",
        "    group_total_white = group_df.apply(filter_total_white)\n",
        "    group_total_white = group_total_white.reset_index(drop=True)\n",
        "    group_total_white = group_total_white.groupby('시간')\n",
        "    total_white_dict = (group_total_white['백색광추정광량'].max() - group_total_white['백색광추정광량'].min()).dropna().to_dict()\n",
        "    \n",
        "    max_white = []\n",
        "    max_white_dict = group_total_white['백색광추정광량'].max().to_dict()\n",
        "    min_white = []\n",
        "    min_white_dict = group_total_white['백색광추정광량'].min().to_dict()\n",
        "    \n",
        "    sleep_list = []\n",
        "    sleep_time = particular_case[(particular_case['화이트 LED작동남은시간']==0)&(particular_case['레드 LED작동남은시간']==0)&(particular_case['블루 LED작동남은시간']==0)]\n",
        "    sleep_time = sleep_time.groupby('시간')\n",
        "    sleep_time = sleep_time.size().to_dict()\n",
        "    \n",
        "    for i in day_list:\n",
        "        is_in(sleep_list, sleep_time, i)\n",
        "        is_in(pump_list, pump_dict, i)\n",
        "        is_in(cold_list, cold_dict, i)\n",
        "        is_in(hot_list, hot_dict, i)\n",
        "        is_in(inside_list, inside_dict, i)\n",
        "        is_in(outside_list, outside_dict, i)\n",
        "        is_in(white_list, white_dict, i)\n",
        "        is_in(blue_list, blue_dict, i)\n",
        "        is_in(red_list, red_dict, i)\n",
        "        is_in(total_red_list, total_red_dict, i)\n",
        "        is_in(total_blue_list, total_blue_dict, i)\n",
        "        is_in(total_white_list, total_white_dict, i)\n",
        "        \n",
        "        is_in(max_red, max_red_dict, i)\n",
        "        is_in(min_red, min_red_dict, i)\n",
        "        is_in(max_blue, max_blue_dict, i)\n",
        "        is_in(min_blue, min_blue_dict, i)\n",
        "        is_in(max_white, max_white_dict, i)\n",
        "        is_in(min_white, min_white_dict, i)\n",
        "            \n",
        "    new_group_df = group_df.mean()\n",
        "    \n",
        "    new_group_df['냉방 시간'] = cold_list\n",
        "    new_group_df['난방 시간'] = hot_list\n",
        "    new_group_df['내부 팬'] = inside_list\n",
        "    new_group_df['외부 팬'] = outside_list\n",
        "    new_group_df['백색'] = white_list\n",
        "    new_group_df['청색'] = blue_list\n",
        "    new_group_df['적색'] = red_list\n",
        "    new_group_df['LED_off'] = sleep_list\n",
        "    new_group_df['적색 크기차'] = total_red_list\n",
        "    new_group_df['청색 크기차'] = total_blue_list\n",
        "    new_group_df['백색 크기차'] = total_white_list\n",
        "    \n",
        "    new_group_df['적색 최대'] = max_red\n",
        "    new_group_df['적색 최소'] = min_red\n",
        "    new_group_df['청색 최대'] = max_blue\n",
        "    new_group_df['청색 최소'] = min_blue\n",
        "    new_group_df['백색 최대'] = max_white\n",
        "    new_group_df['백색 최소'] = min_white\n",
        "\n",
        "    new_group_df['펌프 작동시간'] = pump_list\n",
        "    new_group_df['실내 일교차'] = list(group_df['내부온도관측치'].max() - group_df['내부온도관측치'].min())\n",
        "    new_group_df['습도_온도'] = new_group_df['내부온도관측치'] * new_group_df['내부습도관측치']\n",
        "    new_group_df['습도_온도_CO2'] = new_group_df['습도_온도'] * new_group_df['CO2관측치']\n",
        "    return new_group_df\n",
        "   "
      ],
      "metadata": {
        "id": "k_03CGWROtAq"
      },
      "execution_count": null,
      "outputs": []
    },
    {
      "cell_type": "markdown",
      "source": [
        "train, test set 생성 함수"
      ],
      "metadata": {
        "id": "E-PgazwWV-ga"
      }
    },
    {
      "cell_type": "code",
      "source": [
        "def get_data(data_list):\n",
        "    copy_data_list = copy.deepcopy(data_list)\n",
        "    new_data = \"\"\n",
        "    for i in range(len(copy_data_list)):\n",
        "        if i == 0:\n",
        "            new_data = copy_data_list[i]\n",
        "        else:\n",
        "            new_data = pd.concat([new_data, copy_data_list[i]])\n",
        "    del_list = []\n",
        "    for i in new_data.columns:\n",
        "        if '남은시간' in i:\n",
        "            del_list.append(i)\n",
        "    new_data = new_data.drop(del_list, axis=1)\n",
        "    return new_data"
      ],
      "metadata": {
        "id": "pkLB6dqpO4YO"
      },
      "execution_count": null,
      "outputs": []
    },
    {
      "cell_type": "markdown",
      "source": [
        "교차 검증 함수"
      ],
      "metadata": {
        "id": "T44NHjekTaHQ"
      }
    },
    {
      "cell_type": "code",
      "source": [
        "def test_(df):\n",
        "    test_train = df.copy(deep=True)\n",
        "    test_train['label'] = np.log1p(test_train['label'])\n",
        "\n",
        "    y_train = test_train['label']\n",
        "    X = test_train.drop(['label'],axis=1)\n",
        "    X_col = X.columns\n",
        "    scaler = StandardScaler()\n",
        "    scaler.fit(X)\n",
        "    scaled_X_train  = scaler.transform(X)\n",
        "    scaled_X_train  = pd.DataFrame(scaled_X_train , columns=X_col)\n",
        "\n",
        "    xg_reg = xgb.XGBRegressor(objective ='reg:squarederror', max_depth=5)\n",
        "    nmse = cross_validate(xg_reg, scaled_X_train, y_train,\n",
        "                      scoring=['neg_mean_squared_error'],\n",
        "                      return_train_score=True,\n",
        "                      cv=5, n_jobs=-1)\n",
        "    mse = -1 * nmse['test_neg_mean_squared_error']\n",
        "    rmse = np.sqrt(mse)\n",
        "    avg_rmse = round(np.mean(rmse),4)\n",
        "    print(f\"평균 RMSE :{avg_rmse :.4f}\")\n",
        "    return avg_rmse"
      ],
      "metadata": {
        "id": "2pjXYTSyTHla"
      },
      "execution_count": null,
      "outputs": []
    },
    {
      "cell_type": "markdown",
      "source": [
        "새로운 컬럼 삽입 함수"
      ],
      "metadata": {
        "id": "VgmpsXaQWJc5"
      }
    },
    {
      "cell_type": "code",
      "source": [
        "def get_new_col(df, new_col):\n",
        "  cal_train = df.copy(deep=True)\n",
        "  for i in new_col:\n",
        "      split_col = i.split('*')\n",
        "      if len(split_col) >= 2:\n",
        "          col_name = \"\"\n",
        "          for j in range(len(split_col)):\n",
        "              if j == 0:\n",
        "                  col_name = split_col[j]\n",
        "                  cal_train['cal'] = cal_train[split_col[j]]\n",
        "              else:\n",
        "                  col_name += f'*{split_col[j]}'\n",
        "                  cal_train['cal'] *= cal_train[split_col[j]]\n",
        "          df[col_name] = cal_train['cal']\n",
        "  return df"
      ],
      "metadata": {
        "id": "v2VNS2daWMvs"
      },
      "execution_count": null,
      "outputs": []
    },
    {
      "cell_type": "markdown",
      "source": [
        "train_list 생성"
      ],
      "metadata": {
        "id": "geJHHvAAUkx0"
      }
    },
    {
      "cell_type": "code",
      "source": [
        "train_list = []\n",
        "col_list = []\n",
        "for case in tqdm(range(1, 59)):\n",
        "    if case < 10:\n",
        "        case = '0'+str(case)\n",
        "    particular_case = pd.read_csv(f'data/train_input/CASE_{case}.csv').interpolate()\n",
        "    group_ = change_col(particular_case)\n",
        "    particular_label = pd.read_csv(f'data/train_target/CASE_{case}.csv').interpolate()\n",
        "    group_ = group_.reset_index()\n",
        "    date_list = []\n",
        "    for date in particular_label['시간'].apply(change_year):\n",
        "      date = datetime.strptime(str(date), \"%Y%m%d\")\n",
        "      before_day = date - timedelta(days=1)\n",
        "      date_list.append(before_day.strftime('%Y%m%d'))\n",
        "    group_ = group_[group_['시간'].isin(date_list)]\n",
        "    group_ = group_.sort_values(by='시간')\n",
        "    if case =='01': # 컬럼 명 수정\n",
        "        col_list = group_.columns\n",
        "    else:\n",
        "        group_.columns = col_list\n",
        "    group_['label'] = list(particular_label['rate'])\n",
        "    growth_day = []\n",
        "    for j in range(len(group_)):\n",
        "      growth_day.append(j+1)\n",
        "    group_['growth_day'] = growth_day\n",
        "    group_ = group_.drop(['시간', '기준온도', '외부온도관측치','외부습도관측치', '카메라상태'], axis=1)\n",
        "    train_list.append(group_)"
      ],
      "metadata": {
        "colab": {
          "base_uri": "https://localhost:8080/"
        },
        "id": "iZdl-sBAivuI",
        "outputId": "46b89dac-c7c2-4f01-9b76-114663755a45"
      },
      "execution_count": null,
      "outputs": [
        {
          "output_type": "stream",
          "name": "stderr",
          "text": [
            "100%|██████████| 58/58 [00:33<00:00,  1.75it/s]\n"
          ]
        }
      ]
    },
    {
      "cell_type": "code",
      "source": [
        "test_list = []\n",
        "col_list = []\n",
        "for case in tqdm(range(1, 7)):\n",
        "    if case < 10:\n",
        "        case = '0'+str(case)\n",
        "    particular_case = pd.read_csv(f'data/test_input/TEST_{case}.csv').interpolate()\n",
        "    group_ = change_col(particular_case)    \n",
        "    particular_label = pd.read_csv(f'data/test_target/TEST_{case}.csv').interpolate()\n",
        "    group_ = group_.reset_index()\n",
        "    date_list = []\n",
        "    for date in particular_label['시간'].apply(change_year):\n",
        "      date = datetime.strptime(str(date), \"%Y%m%d\")\n",
        "      before_day = date - timedelta(days=1)\n",
        "      date_list.append(before_day.strftime('%Y%m%d'))\n",
        "    group_ = group_[group_['시간'].isin(date_list)]\n",
        "    group_ = group_.sort_values(by='시간')\n",
        "    if case =='01': # 컬럼 명 수정\n",
        "        col_list = group_.columns\n",
        "    else:\n",
        "        group_.columns = col_list\n",
        "    group_['label'] = list(particular_label['rate'])\n",
        "    growth_day = []\n",
        "    for j in range(len(group_)):\n",
        "      growth_day.append(j+1)\n",
        "    group_['growth_day'] = growth_day\n",
        "    group_ = group_.drop(['시간', '기준온도', '외부온도관측치','외부습도관측치', '카메라상태'], axis=1)\n",
        "    test_list.append(group_)"
      ],
      "metadata": {
        "colab": {
          "base_uri": "https://localhost:8080/"
        },
        "id": "B3Ln8rEqjzBU",
        "outputId": "4d41ea3a-1ed4-45fd-9fb4-4d6b07ae6f45"
      },
      "execution_count": null,
      "outputs": [
        {
          "output_type": "stream",
          "name": "stderr",
          "text": [
            "100%|██████████| 6/6 [00:03<00:00,  1.67it/s]\n"
          ]
        }
      ]
    },
    {
      "cell_type": "markdown",
      "source": [
        "train set, test set 생성"
      ],
      "metadata": {
        "id": "Ot9_GVsKXNnd"
      }
    },
    {
      "cell_type": "code",
      "source": [
        "train = get_data(train_list)\n",
        "test = get_data(test_list)"
      ],
      "metadata": {
        "id": "Z3MkZDtkWeww"
      },
      "execution_count": null,
      "outputs": []
    },
    {
      "cell_type": "markdown",
      "source": [
        "변수 컬럼 추가"
      ],
      "metadata": {
        "id": "1U6AdbAuM98N"
      }
    },
    {
      "cell_type": "code",
      "source": [
        "train.columns"
      ],
      "metadata": {
        "colab": {
          "base_uri": "https://localhost:8080/"
        },
        "id": "mCvoZzE6l_To",
        "outputId": "1c51533e-96e4-4927-daa9-ebc4daa899ca"
      },
      "execution_count": null,
      "outputs": [
        {
          "output_type": "execute_result",
          "data": {
            "text/plain": [
              "Index(['내부온도관측치', '내부습도관측치', 'CO2관측치', 'EC관측치', '펌프상태', '최근분무량', '일간누적분무량',\n",
              "       '냉방상태', '난방상태', '내부유동팬상태', '외부환기팬상태', '화이트 LED상태', '화이트 LED동작강도',\n",
              "       '레드 LED상태', '레드 LED동작강도', '블루 LED상태', '블루 LED동작강도', '냉방온도', '난방온도',\n",
              "       '난방부하', '냉방부하', '총추정광량', '백색광추정광량', '적색광추정광량', '청색광추정광량', '냉방 시간',\n",
              "       '난방 시간', '내부 팬', '외부 팬', '백색', '청색', '적색', 'LED_off', '적색 크기차',\n",
              "       '청색 크기차', '백색 크기차', '적색 최대', '적색 최소', '청색 최대', '청색 최소', '백색 최대',\n",
              "       '백색 최소', '펌프 작동시간', '실내 일교차', '습도_온도', '습도_온도_CO2', 'label',\n",
              "       'growth_day'],\n",
              "      dtype='object')"
            ]
          },
          "metadata": {},
          "execution_count": 116
        }
      ]
    },
    {
      "cell_type": "code",
      "source": [
        "test_(train)"
      ],
      "metadata": {
        "colab": {
          "base_uri": "https://localhost:8080/"
        },
        "id": "WMb4FTCv1pRY",
        "outputId": "4205e571-fb6d-4c86-dc94-c2c56e142faa"
      },
      "execution_count": null,
      "outputs": [
        {
          "output_type": "stream",
          "name": "stdout",
          "text": [
            "평균 RMSE :0.4636\n"
          ]
        },
        {
          "output_type": "execute_result",
          "data": {
            "text/plain": [
              "0.4636"
            ]
          },
          "metadata": {},
          "execution_count": 117
        }
      ]
    },
    {
      "cell_type": "code",
      "source": [
        "new_col = ['청색광추정광량*청색 크기차', '실내 일교차*growth_day', 'growth_day*EC관측치', '청색 최소*블루 LED동작강도', '외부 팬*난방 시간*적색 최소']"
      ],
      "metadata": {
        "id": "qwVaBfcXeUcF"
      },
      "execution_count": null,
      "outputs": []
    },
    {
      "cell_type": "code",
      "source": [
        "train = get_new_col(train, new_col)\n",
        "test_(train)"
      ],
      "metadata": {
        "colab": {
          "base_uri": "https://localhost:8080/"
        },
        "id": "Jwlbi6FL1dvt",
        "outputId": "5d42d700-32c9-4094-f49d-9c3ea2825c47"
      },
      "execution_count": null,
      "outputs": [
        {
          "output_type": "stream",
          "name": "stdout",
          "text": [
            "평균 RMSE :0.4416\n"
          ]
        },
        {
          "output_type": "execute_result",
          "data": {
            "text/plain": [
              "0.4416"
            ]
          },
          "metadata": {},
          "execution_count": 119
        }
      ]
    },
    {
      "cell_type": "code",
      "source": [
        "test_new_col = ['청색광추정광량*청색 크기차', '실내 일교차*growth_day', 'growth_day*EC관측치', '청색 최소*블루 LED동작강도', '외부 팬*난방 시간*적색 최소',\n",
        "       '화이트 LED상태*최근분무량', '최근분무량*냉방부하', '레드 LED동작강도*growth_day*EC관측치', '청색 최소*블루 LED동작강도*냉방부하', '펌프상태*적색광추정광량']"
      ],
      "metadata": {
        "id": "55lS1Sku1Txf"
      },
      "execution_count": null,
      "outputs": []
    },
    {
      "cell_type": "code",
      "source": [
        "train = get_new_col(train, test_new_col)\n",
        "test_(train)"
      ],
      "metadata": {
        "colab": {
          "base_uri": "https://localhost:8080/"
        },
        "id": "6ru4BVtH1vwY",
        "outputId": "3d5c0b5a-74af-4b2a-9652-28589e92bbf6"
      },
      "execution_count": null,
      "outputs": [
        {
          "output_type": "stream",
          "name": "stdout",
          "text": [
            "평균 RMSE :0.4145\n"
          ]
        },
        {
          "output_type": "execute_result",
          "data": {
            "text/plain": [
              "0.4145"
            ]
          },
          "metadata": {},
          "execution_count": 121
        }
      ]
    },
    {
      "cell_type": "code",
      "source": [
        "test_new_col = ['청색광추정광량*청색 크기차', '실내 일교차*growth_day', 'growth_day*EC관측치', '청색 최소*블루 LED동작강도', '외부 팬*난방 시간*적색 최소',\n",
        "       '화이트 LED상태*최근분무량', '최근분무량*냉방부하', '레드 LED동작강도*growth_day*EC관측치', '청색 최소*블루 LED동작강도*냉방부하', '펌프상태*적색광추정광량',\n",
        "       '습도_온도*실내 일교차*growth_day', '펌프상태*실내 일교차*growth_day', '냉방 시간*습도_온도','펌프상태*청색 최소*블루 LED동작강도*냉방부하', '백색 크기차*외부 팬*난방 시간*적색 최소']"
      ],
      "metadata": {
        "id": "iC5NEjS41UUj"
      },
      "execution_count": null,
      "outputs": []
    },
    {
      "cell_type": "code",
      "source": [
        "train = get_new_col(train, test_new_col)\n",
        "test_(train)"
      ],
      "metadata": {
        "colab": {
          "base_uri": "https://localhost:8080/"
        },
        "id": "HDY6Z8E610qh",
        "outputId": "d02af708-45d5-4db3-84b0-4930be34881d"
      },
      "execution_count": null,
      "outputs": [
        {
          "output_type": "stream",
          "name": "stdout",
          "text": [
            "평균 RMSE :0.3550\n"
          ]
        },
        {
          "output_type": "execute_result",
          "data": {
            "text/plain": [
              "0.355"
            ]
          },
          "metadata": {},
          "execution_count": 123
        }
      ]
    },
    {
      "cell_type": "code",
      "source": [
        "total_new_col = ['청색광추정광량*청색 크기차', '실내 일교차*growth_day', 'growth_day*EC관측치', '청색 최소*블루 LED동작강도', '외부 팬*난방 시간*적색 최소',\n",
        "       '화이트 LED상태*최근분무량', '최근분무량*냉방부하', '레드 LED동작강도*growth_day*EC관측치', '청색 최소*블루 LED동작강도*냉방부하', '펌프상태*적색광추정광량',\n",
        "       '습도_온도*실내 일교차*growth_day', '펌프상태*실내 일교차*growth_day', '냉방 시간*습도_온도','펌프상태*청색 최소*블루 LED동작강도*냉방부하', '백색 크기차*외부 팬*난방 시간*적색 최소',\n",
        "       '펌프상태*청색 최소*블루 LED동작강도*냉방부하*블루 LED상태']"
      ],
      "metadata": {
        "id": "k7NzCrtb1Uhk"
      },
      "execution_count": null,
      "outputs": []
    },
    {
      "cell_type": "code",
      "source": [
        "train = get_new_col(train, total_new_col)\n",
        "test_(train)"
      ],
      "metadata": {
        "colab": {
          "base_uri": "https://localhost:8080/"
        },
        "id": "foWeBO2812eq",
        "outputId": "8a1b0a4d-622b-4649-8ac3-293444cf2560"
      },
      "execution_count": null,
      "outputs": [
        {
          "output_type": "stream",
          "name": "stdout",
          "text": [
            "평균 RMSE :0.3499\n"
          ]
        },
        {
          "output_type": "execute_result",
          "data": {
            "text/plain": [
              "0.3499"
            ]
          },
          "metadata": {},
          "execution_count": 125
        }
      ]
    },
    {
      "cell_type": "code",
      "source": [
        "train = get_data(train_list)\n",
        "test = get_data(test_list)\n",
        "train = get_new_col(train, total_new_col)\n",
        "test = get_new_col(test, total_new_col)"
      ],
      "metadata": {
        "id": "82_qIOq_NAzf"
      },
      "execution_count": null,
      "outputs": []
    },
    {
      "cell_type": "markdown",
      "source": [
        "데이터 스케일링"
      ],
      "metadata": {
        "id": "nmLRmmCkeYZg"
      }
    },
    {
      "cell_type": "code",
      "source": [
        "result = []\n",
        "train['label'] = np.log1p(train['label'])\n",
        "\n",
        "y_train = train['label']\n",
        "X = train.drop(['label'],axis=1)\n",
        "X_test = test.drop(['label'],axis=1)\n",
        "X_col = X.columns\n",
        "\n",
        "scaler = StandardScaler()\n",
        "\n",
        "scaler.fit(X)\n",
        "scaled_X_train  = scaler.transform(X)\n",
        "scaled_X_train  = pd.DataFrame(scaled_X_train , columns=X_col)\n",
        "scaled_X_test  = scaler.transform(X_test)\n",
        "scaled_X_test  = pd.DataFrame(scaled_X_test , columns=X_col)\n",
        "scaled_X_test"
      ],
      "metadata": {
        "colab": {
          "base_uri": "https://localhost:8080/",
          "height": 609
        },
        "id": "cSI1Zn7_XPtK",
        "outputId": "a2703e67-2616-4044-b7b0-a6e6bc8185c8"
      },
      "execution_count": null,
      "outputs": [
        {
          "output_type": "execute_result",
          "data": {
            "text/plain": [
              "      내부온도관측치   내부습도관측치    CO2관측치     EC관측치      펌프상태     최근분무량   일간누적분무량  \\\n",
              "0    0.973812 -0.335361  0.047351 -0.054318 -0.290796 -0.061566 -0.132218   \n",
              "1    1.486363 -0.215687 -0.366531 -0.044636 -0.137679 -0.021053 -0.036647   \n",
              "2    2.297798 -0.186451 -0.711562 -0.044609 -0.188774 -0.022268 -0.042922   \n",
              "3    1.872046 -0.207595 -0.566144 -0.044420 -0.171771 -0.023511 -0.034066   \n",
              "4    1.875743 -0.230817 -0.571558 -0.044339 -0.137763 -0.025763 -0.025901   \n",
              "..        ...       ...       ...       ...       ...       ...       ...   \n",
              "190 -0.356605  0.097264  2.078592 -0.059465 -0.171771 -0.019885 -0.021880   \n",
              "191 -0.340153  0.093456  1.680324 -0.062055 -0.120760 -0.019885 -0.021994   \n",
              "192 -0.422025  0.094323  1.763370 -0.064480 -0.171771 -0.019885 -0.011055   \n",
              "193 -0.417220  0.094540  1.689644 -0.064951 -0.120760 -0.019885 -0.021926   \n",
              "194 -0.112915  0.093915  1.616474 -0.064953 -0.171771 -0.019885 -0.022107   \n",
              "\n",
              "         냉방상태      난방상태   내부유동팬상태  ...  최근분무량*냉방부하  \\\n",
              "0   -0.044453 -0.268538 -0.064099  ...   -0.056717   \n",
              "1   -0.044433 -0.268538 -0.064099  ...   -0.009528   \n",
              "2   -0.044444 -0.268538 -0.064099  ...    0.018454   \n",
              "3   -0.044437 -0.204524 -0.064099  ...    0.012131   \n",
              "4   -0.044435 -0.268538 -0.064099  ...   -0.000759   \n",
              "..        ...       ...       ...  ...         ...   \n",
              "190 -0.044444 -0.268538 -0.064099  ...    0.000230   \n",
              "191 -0.044444 -0.268538 -0.064099  ...    0.000822   \n",
              "192 -0.044443 -0.268538 -0.064099  ...   -0.002224   \n",
              "193 -0.044444 -0.268538 -0.064099  ...   -0.002036   \n",
              "194 -0.044439 -0.268538 -0.064099  ...    0.009206   \n",
              "\n",
              "     레드 LED동작강도*growth_day*EC관측치  청색 최소*블루 LED동작강도*냉방부하  펌프상태*적색광추정광량  \\\n",
              "0                      -0.124384              -0.251318     -0.420172   \n",
              "1                      -0.124384              -0.251318     -0.420172   \n",
              "2                      -0.124384              -0.251318     -0.420172   \n",
              "3                      -0.123240               0.166792     -0.348205   \n",
              "4                      -0.124384              -0.251318     -0.420172   \n",
              "..                           ...                    ...           ...   \n",
              "190                    -0.118668              -0.230805     -0.252183   \n",
              "191                    -0.121271              -0.230646     -0.220694   \n",
              "192                    -0.123860              -0.231425     -0.251871   \n",
              "193                    -0.124382              -0.231378     -0.220063   \n",
              "194                    -0.124384              -0.228438     -0.251847   \n",
              "\n",
              "     습도_온도*실내 일교차*growth_day  펌프상태*실내 일교차*growth_day  냉방 시간*습도_온도  \\\n",
              "0                  -0.631278               -0.238454    -0.329830   \n",
              "1                  -0.614297               -0.231885    -0.027881   \n",
              "2                  -0.550018               -0.220243    -0.010224   \n",
              "3                  -0.487878               -0.198715    -0.014549   \n",
              "4                  -0.490871               -0.190234    -0.041183   \n",
              "..                       ...                     ...          ...   \n",
              "190                 0.551647               -0.024711     0.200654   \n",
              "191                 0.567720                0.020876     0.194334   \n",
              "192                 0.694534                0.004472     0.201976   \n",
              "193                 0.787298                0.071018     0.185829   \n",
              "194                 0.845566                0.022347     0.279448   \n",
              "\n",
              "     펌프상태*청색 최소*블루 LED동작강도*냉방부하  백색 크기차*외부 팬*난방 시간*적색 최소  \\\n",
              "0                     -0.242096                -0.096785   \n",
              "1                     -0.242096                -0.096785   \n",
              "2                     -0.242096                -0.096785   \n",
              "3                      0.152752                -0.096785   \n",
              "4                     -0.242096                -0.096785   \n",
              "..                          ...                      ...   \n",
              "190                   -0.222723                -0.096785   \n",
              "191                   -0.218914                -0.096785   \n",
              "192                   -0.223309                -0.096785   \n",
              "193                   -0.219734                -0.096785   \n",
              "194                   -0.220488                -0.096785   \n",
              "\n",
              "     펌프상태*청색 최소*블루 LED동작강도*냉방부하*블루 LED상태  \n",
              "0                              -0.242812  \n",
              "1                              -0.242812  \n",
              "2                              -0.242812  \n",
              "3                               0.152042  \n",
              "4                              -0.242812  \n",
              "..                                   ...  \n",
              "190                            -0.223344  \n",
              "191                            -0.219580  \n",
              "192                            -0.223906  \n",
              "193                            -0.220356  \n",
              "194                            -0.221098  \n",
              "\n",
              "[195 rows x 63 columns]"
            ],
            "text/html": [
              "\n",
              "  <div id=\"df-899d9579-09aa-458b-a709-e25d03edd533\">\n",
              "    <div class=\"colab-df-container\">\n",
              "      <div>\n",
              "<style scoped>\n",
              "    .dataframe tbody tr th:only-of-type {\n",
              "        vertical-align: middle;\n",
              "    }\n",
              "\n",
              "    .dataframe tbody tr th {\n",
              "        vertical-align: top;\n",
              "    }\n",
              "\n",
              "    .dataframe thead th {\n",
              "        text-align: right;\n",
              "    }\n",
              "</style>\n",
              "<table border=\"1\" class=\"dataframe\">\n",
              "  <thead>\n",
              "    <tr style=\"text-align: right;\">\n",
              "      <th></th>\n",
              "      <th>내부온도관측치</th>\n",
              "      <th>내부습도관측치</th>\n",
              "      <th>CO2관측치</th>\n",
              "      <th>EC관측치</th>\n",
              "      <th>펌프상태</th>\n",
              "      <th>최근분무량</th>\n",
              "      <th>일간누적분무량</th>\n",
              "      <th>냉방상태</th>\n",
              "      <th>난방상태</th>\n",
              "      <th>내부유동팬상태</th>\n",
              "      <th>...</th>\n",
              "      <th>최근분무량*냉방부하</th>\n",
              "      <th>레드 LED동작강도*growth_day*EC관측치</th>\n",
              "      <th>청색 최소*블루 LED동작강도*냉방부하</th>\n",
              "      <th>펌프상태*적색광추정광량</th>\n",
              "      <th>습도_온도*실내 일교차*growth_day</th>\n",
              "      <th>펌프상태*실내 일교차*growth_day</th>\n",
              "      <th>냉방 시간*습도_온도</th>\n",
              "      <th>펌프상태*청색 최소*블루 LED동작강도*냉방부하</th>\n",
              "      <th>백색 크기차*외부 팬*난방 시간*적색 최소</th>\n",
              "      <th>펌프상태*청색 최소*블루 LED동작강도*냉방부하*블루 LED상태</th>\n",
              "    </tr>\n",
              "  </thead>\n",
              "  <tbody>\n",
              "    <tr>\n",
              "      <th>0</th>\n",
              "      <td>0.973812</td>\n",
              "      <td>-0.335361</td>\n",
              "      <td>0.047351</td>\n",
              "      <td>-0.054318</td>\n",
              "      <td>-0.290796</td>\n",
              "      <td>-0.061566</td>\n",
              "      <td>-0.132218</td>\n",
              "      <td>-0.044453</td>\n",
              "      <td>-0.268538</td>\n",
              "      <td>-0.064099</td>\n",
              "      <td>...</td>\n",
              "      <td>-0.056717</td>\n",
              "      <td>-0.124384</td>\n",
              "      <td>-0.251318</td>\n",
              "      <td>-0.420172</td>\n",
              "      <td>-0.631278</td>\n",
              "      <td>-0.238454</td>\n",
              "      <td>-0.329830</td>\n",
              "      <td>-0.242096</td>\n",
              "      <td>-0.096785</td>\n",
              "      <td>-0.242812</td>\n",
              "    </tr>\n",
              "    <tr>\n",
              "      <th>1</th>\n",
              "      <td>1.486363</td>\n",
              "      <td>-0.215687</td>\n",
              "      <td>-0.366531</td>\n",
              "      <td>-0.044636</td>\n",
              "      <td>-0.137679</td>\n",
              "      <td>-0.021053</td>\n",
              "      <td>-0.036647</td>\n",
              "      <td>-0.044433</td>\n",
              "      <td>-0.268538</td>\n",
              "      <td>-0.064099</td>\n",
              "      <td>...</td>\n",
              "      <td>-0.009528</td>\n",
              "      <td>-0.124384</td>\n",
              "      <td>-0.251318</td>\n",
              "      <td>-0.420172</td>\n",
              "      <td>-0.614297</td>\n",
              "      <td>-0.231885</td>\n",
              "      <td>-0.027881</td>\n",
              "      <td>-0.242096</td>\n",
              "      <td>-0.096785</td>\n",
              "      <td>-0.242812</td>\n",
              "    </tr>\n",
              "    <tr>\n",
              "      <th>2</th>\n",
              "      <td>2.297798</td>\n",
              "      <td>-0.186451</td>\n",
              "      <td>-0.711562</td>\n",
              "      <td>-0.044609</td>\n",
              "      <td>-0.188774</td>\n",
              "      <td>-0.022268</td>\n",
              "      <td>-0.042922</td>\n",
              "      <td>-0.044444</td>\n",
              "      <td>-0.268538</td>\n",
              "      <td>-0.064099</td>\n",
              "      <td>...</td>\n",
              "      <td>0.018454</td>\n",
              "      <td>-0.124384</td>\n",
              "      <td>-0.251318</td>\n",
              "      <td>-0.420172</td>\n",
              "      <td>-0.550018</td>\n",
              "      <td>-0.220243</td>\n",
              "      <td>-0.010224</td>\n",
              "      <td>-0.242096</td>\n",
              "      <td>-0.096785</td>\n",
              "      <td>-0.242812</td>\n",
              "    </tr>\n",
              "    <tr>\n",
              "      <th>3</th>\n",
              "      <td>1.872046</td>\n",
              "      <td>-0.207595</td>\n",
              "      <td>-0.566144</td>\n",
              "      <td>-0.044420</td>\n",
              "      <td>-0.171771</td>\n",
              "      <td>-0.023511</td>\n",
              "      <td>-0.034066</td>\n",
              "      <td>-0.044437</td>\n",
              "      <td>-0.204524</td>\n",
              "      <td>-0.064099</td>\n",
              "      <td>...</td>\n",
              "      <td>0.012131</td>\n",
              "      <td>-0.123240</td>\n",
              "      <td>0.166792</td>\n",
              "      <td>-0.348205</td>\n",
              "      <td>-0.487878</td>\n",
              "      <td>-0.198715</td>\n",
              "      <td>-0.014549</td>\n",
              "      <td>0.152752</td>\n",
              "      <td>-0.096785</td>\n",
              "      <td>0.152042</td>\n",
              "    </tr>\n",
              "    <tr>\n",
              "      <th>4</th>\n",
              "      <td>1.875743</td>\n",
              "      <td>-0.230817</td>\n",
              "      <td>-0.571558</td>\n",
              "      <td>-0.044339</td>\n",
              "      <td>-0.137763</td>\n",
              "      <td>-0.025763</td>\n",
              "      <td>-0.025901</td>\n",
              "      <td>-0.044435</td>\n",
              "      <td>-0.268538</td>\n",
              "      <td>-0.064099</td>\n",
              "      <td>...</td>\n",
              "      <td>-0.000759</td>\n",
              "      <td>-0.124384</td>\n",
              "      <td>-0.251318</td>\n",
              "      <td>-0.420172</td>\n",
              "      <td>-0.490871</td>\n",
              "      <td>-0.190234</td>\n",
              "      <td>-0.041183</td>\n",
              "      <td>-0.242096</td>\n",
              "      <td>-0.096785</td>\n",
              "      <td>-0.242812</td>\n",
              "    </tr>\n",
              "    <tr>\n",
              "      <th>...</th>\n",
              "      <td>...</td>\n",
              "      <td>...</td>\n",
              "      <td>...</td>\n",
              "      <td>...</td>\n",
              "      <td>...</td>\n",
              "      <td>...</td>\n",
              "      <td>...</td>\n",
              "      <td>...</td>\n",
              "      <td>...</td>\n",
              "      <td>...</td>\n",
              "      <td>...</td>\n",
              "      <td>...</td>\n",
              "      <td>...</td>\n",
              "      <td>...</td>\n",
              "      <td>...</td>\n",
              "      <td>...</td>\n",
              "      <td>...</td>\n",
              "      <td>...</td>\n",
              "      <td>...</td>\n",
              "      <td>...</td>\n",
              "      <td>...</td>\n",
              "    </tr>\n",
              "    <tr>\n",
              "      <th>190</th>\n",
              "      <td>-0.356605</td>\n",
              "      <td>0.097264</td>\n",
              "      <td>2.078592</td>\n",
              "      <td>-0.059465</td>\n",
              "      <td>-0.171771</td>\n",
              "      <td>-0.019885</td>\n",
              "      <td>-0.021880</td>\n",
              "      <td>-0.044444</td>\n",
              "      <td>-0.268538</td>\n",
              "      <td>-0.064099</td>\n",
              "      <td>...</td>\n",
              "      <td>0.000230</td>\n",
              "      <td>-0.118668</td>\n",
              "      <td>-0.230805</td>\n",
              "      <td>-0.252183</td>\n",
              "      <td>0.551647</td>\n",
              "      <td>-0.024711</td>\n",
              "      <td>0.200654</td>\n",
              "      <td>-0.222723</td>\n",
              "      <td>-0.096785</td>\n",
              "      <td>-0.223344</td>\n",
              "    </tr>\n",
              "    <tr>\n",
              "      <th>191</th>\n",
              "      <td>-0.340153</td>\n",
              "      <td>0.093456</td>\n",
              "      <td>1.680324</td>\n",
              "      <td>-0.062055</td>\n",
              "      <td>-0.120760</td>\n",
              "      <td>-0.019885</td>\n",
              "      <td>-0.021994</td>\n",
              "      <td>-0.044444</td>\n",
              "      <td>-0.268538</td>\n",
              "      <td>-0.064099</td>\n",
              "      <td>...</td>\n",
              "      <td>0.000822</td>\n",
              "      <td>-0.121271</td>\n",
              "      <td>-0.230646</td>\n",
              "      <td>-0.220694</td>\n",
              "      <td>0.567720</td>\n",
              "      <td>0.020876</td>\n",
              "      <td>0.194334</td>\n",
              "      <td>-0.218914</td>\n",
              "      <td>-0.096785</td>\n",
              "      <td>-0.219580</td>\n",
              "    </tr>\n",
              "    <tr>\n",
              "      <th>192</th>\n",
              "      <td>-0.422025</td>\n",
              "      <td>0.094323</td>\n",
              "      <td>1.763370</td>\n",
              "      <td>-0.064480</td>\n",
              "      <td>-0.171771</td>\n",
              "      <td>-0.019885</td>\n",
              "      <td>-0.011055</td>\n",
              "      <td>-0.044443</td>\n",
              "      <td>-0.268538</td>\n",
              "      <td>-0.064099</td>\n",
              "      <td>...</td>\n",
              "      <td>-0.002224</td>\n",
              "      <td>-0.123860</td>\n",
              "      <td>-0.231425</td>\n",
              "      <td>-0.251871</td>\n",
              "      <td>0.694534</td>\n",
              "      <td>0.004472</td>\n",
              "      <td>0.201976</td>\n",
              "      <td>-0.223309</td>\n",
              "      <td>-0.096785</td>\n",
              "      <td>-0.223906</td>\n",
              "    </tr>\n",
              "    <tr>\n",
              "      <th>193</th>\n",
              "      <td>-0.417220</td>\n",
              "      <td>0.094540</td>\n",
              "      <td>1.689644</td>\n",
              "      <td>-0.064951</td>\n",
              "      <td>-0.120760</td>\n",
              "      <td>-0.019885</td>\n",
              "      <td>-0.021926</td>\n",
              "      <td>-0.044444</td>\n",
              "      <td>-0.268538</td>\n",
              "      <td>-0.064099</td>\n",
              "      <td>...</td>\n",
              "      <td>-0.002036</td>\n",
              "      <td>-0.124382</td>\n",
              "      <td>-0.231378</td>\n",
              "      <td>-0.220063</td>\n",
              "      <td>0.787298</td>\n",
              "      <td>0.071018</td>\n",
              "      <td>0.185829</td>\n",
              "      <td>-0.219734</td>\n",
              "      <td>-0.096785</td>\n",
              "      <td>-0.220356</td>\n",
              "    </tr>\n",
              "    <tr>\n",
              "      <th>194</th>\n",
              "      <td>-0.112915</td>\n",
              "      <td>0.093915</td>\n",
              "      <td>1.616474</td>\n",
              "      <td>-0.064953</td>\n",
              "      <td>-0.171771</td>\n",
              "      <td>-0.019885</td>\n",
              "      <td>-0.022107</td>\n",
              "      <td>-0.044439</td>\n",
              "      <td>-0.268538</td>\n",
              "      <td>-0.064099</td>\n",
              "      <td>...</td>\n",
              "      <td>0.009206</td>\n",
              "      <td>-0.124384</td>\n",
              "      <td>-0.228438</td>\n",
              "      <td>-0.251847</td>\n",
              "      <td>0.845566</td>\n",
              "      <td>0.022347</td>\n",
              "      <td>0.279448</td>\n",
              "      <td>-0.220488</td>\n",
              "      <td>-0.096785</td>\n",
              "      <td>-0.221098</td>\n",
              "    </tr>\n",
              "  </tbody>\n",
              "</table>\n",
              "<p>195 rows × 63 columns</p>\n",
              "</div>\n",
              "      <button class=\"colab-df-convert\" onclick=\"convertToInteractive('df-899d9579-09aa-458b-a709-e25d03edd533')\"\n",
              "              title=\"Convert this dataframe to an interactive table.\"\n",
              "              style=\"display:none;\">\n",
              "        \n",
              "  <svg xmlns=\"http://www.w3.org/2000/svg\" height=\"24px\"viewBox=\"0 0 24 24\"\n",
              "       width=\"24px\">\n",
              "    <path d=\"M0 0h24v24H0V0z\" fill=\"none\"/>\n",
              "    <path d=\"M18.56 5.44l.94 2.06.94-2.06 2.06-.94-2.06-.94-.94-2.06-.94 2.06-2.06.94zm-11 1L8.5 8.5l.94-2.06 2.06-.94-2.06-.94L8.5 2.5l-.94 2.06-2.06.94zm10 10l.94 2.06.94-2.06 2.06-.94-2.06-.94-.94-2.06-.94 2.06-2.06.94z\"/><path d=\"M17.41 7.96l-1.37-1.37c-.4-.4-.92-.59-1.43-.59-.52 0-1.04.2-1.43.59L10.3 9.45l-7.72 7.72c-.78.78-.78 2.05 0 2.83L4 21.41c.39.39.9.59 1.41.59.51 0 1.02-.2 1.41-.59l7.78-7.78 2.81-2.81c.8-.78.8-2.07 0-2.86zM5.41 20L4 18.59l7.72-7.72 1.47 1.35L5.41 20z\"/>\n",
              "  </svg>\n",
              "      </button>\n",
              "      \n",
              "  <style>\n",
              "    .colab-df-container {\n",
              "      display:flex;\n",
              "      flex-wrap:wrap;\n",
              "      gap: 12px;\n",
              "    }\n",
              "\n",
              "    .colab-df-convert {\n",
              "      background-color: #E8F0FE;\n",
              "      border: none;\n",
              "      border-radius: 50%;\n",
              "      cursor: pointer;\n",
              "      display: none;\n",
              "      fill: #1967D2;\n",
              "      height: 32px;\n",
              "      padding: 0 0 0 0;\n",
              "      width: 32px;\n",
              "    }\n",
              "\n",
              "    .colab-df-convert:hover {\n",
              "      background-color: #E2EBFA;\n",
              "      box-shadow: 0px 1px 2px rgba(60, 64, 67, 0.3), 0px 1px 3px 1px rgba(60, 64, 67, 0.15);\n",
              "      fill: #174EA6;\n",
              "    }\n",
              "\n",
              "    [theme=dark] .colab-df-convert {\n",
              "      background-color: #3B4455;\n",
              "      fill: #D2E3FC;\n",
              "    }\n",
              "\n",
              "    [theme=dark] .colab-df-convert:hover {\n",
              "      background-color: #434B5C;\n",
              "      box-shadow: 0px 1px 3px 1px rgba(0, 0, 0, 0.15);\n",
              "      filter: drop-shadow(0px 1px 2px rgba(0, 0, 0, 0.3));\n",
              "      fill: #FFFFFF;\n",
              "    }\n",
              "  </style>\n",
              "\n",
              "      <script>\n",
              "        const buttonEl =\n",
              "          document.querySelector('#df-899d9579-09aa-458b-a709-e25d03edd533 button.colab-df-convert');\n",
              "        buttonEl.style.display =\n",
              "          google.colab.kernel.accessAllowed ? 'block' : 'none';\n",
              "\n",
              "        async function convertToInteractive(key) {\n",
              "          const element = document.querySelector('#df-899d9579-09aa-458b-a709-e25d03edd533');\n",
              "          const dataTable =\n",
              "            await google.colab.kernel.invokeFunction('convertToInteractive',\n",
              "                                                     [key], {});\n",
              "          if (!dataTable) return;\n",
              "\n",
              "          const docLinkHtml = 'Like what you see? Visit the ' +\n",
              "            '<a target=\"_blank\" href=https://colab.research.google.com/notebooks/data_table.ipynb>data table notebook</a>'\n",
              "            + ' to learn more about interactive tables.';\n",
              "          element.innerHTML = '';\n",
              "          dataTable['output_type'] = 'display_data';\n",
              "          await google.colab.output.renderOutput(dataTable, element);\n",
              "          const docLink = document.createElement('div');\n",
              "          docLink.innerHTML = docLinkHtml;\n",
              "          element.appendChild(docLink);\n",
              "        }\n",
              "      </script>\n",
              "    </div>\n",
              "  </div>\n",
              "  "
            ]
          },
          "metadata": {},
          "execution_count": 127
        }
      ]
    },
    {
      "cell_type": "markdown",
      "source": [
        "모델생성"
      ],
      "metadata": {
        "id": "rgekJu9HeahI"
      }
    },
    {
      "cell_type": "code",
      "source": [
        "xg_reg = xgb.XGBRegressor(objective ='reg:squarederror', max_depth = 5)\n",
        "xg_reg.fit(scaled_X_train, y_train)\n",
        "pred = xg_reg.predict(scaled_X_test)\n",
        "for k in pred:\n",
        "    result = np.hstack([result, k])\n",
        "result"
      ],
      "metadata": {
        "id": "FHURFrBoeXaw",
        "colab": {
          "base_uri": "https://localhost:8080/"
        },
        "outputId": "20e33b39-e7e6-4f6d-e7c1-c07b921c82c8"
      },
      "execution_count": null,
      "outputs": [
        {
          "output_type": "execute_result",
          "data": {
            "text/plain": [
              "array([ 0.99123871,  0.48599562,  0.24713942,  0.26390427,  0.2625449 ,\n",
              "        0.27300376,  0.25360614,  0.2867794 ,  0.2867794 ,  0.29047346,\n",
              "        0.28121072,  0.27224809,  0.2748611 ,  0.26913667,  0.26784384,\n",
              "        0.26833716,  0.22619531,  0.15846986,  0.1650956 ,  0.21463415,\n",
              "        0.16896051,  0.172362  ,  0.16515067,  0.16494748,  0.15113705,\n",
              "        0.15846354,  0.13455194,  0.09446374, -0.06056458,  0.34347335,\n",
              "        0.43646967,  0.36293262,  0.28100979,  0.27313799,  0.27682301,\n",
              "        0.27713579,  0.2851463 ,  0.27987158,  0.27965993,  0.28008872,\n",
              "        0.25209743,  0.23513412,  0.25118303,  0.25205475,  0.24322248,\n",
              "        0.20038363,  0.18079504,  0.18343315,  0.21086371,  0.10388836,\n",
              "        0.06806332,  0.08069554,  0.08674127,  0.0606499 ,  0.05564246,\n",
              "        0.05568045,  0.05413526,  0.05873084,  0.04828283,  0.01975834,\n",
              "        0.00676182, -0.00547457, -0.01781404, -0.01245743,  0.56618482,\n",
              "        0.3722747 ,  0.36997449,  0.28132239,  0.30063459,  0.2981025 ,\n",
              "        0.2996332 ,  0.3019748 ,  0.30989408,  0.28702247,  0.27345169,\n",
              "        0.24896696,  0.26931375,  0.26160604,  0.26243043,  0.25490677,\n",
              "        0.22532243,  0.21210104,  0.20512024,  0.20512024,  0.16846022,\n",
              "        0.16457129,  0.13854447,  0.13497785,  0.11043742, -0.05492842,\n",
              "        0.42131597,  0.4485395 ,  0.27713823,  0.20313275,  0.35561156,\n",
              "        0.23907092,  0.18827558,  0.19000816,  0.25364244,  0.28684461,\n",
              "        0.29564455,  0.25587049,  0.25674987,  0.25382847,  0.26057303,\n",
              "        0.2530812 ,  0.20815808,  0.18831474,  0.19215295,  0.19026035,\n",
              "        0.12714544,  0.13297874,  0.06919995,  0.11094353,  0.07603732,\n",
              "        0.08454329,  0.09166339,  0.08658248,  0.051523  ,  0.04446602,\n",
              "        0.08807451,  0.02547297,  0.44600463,  0.40996745,  0.37099695,\n",
              "        0.34578714,  0.2869336 ,  0.17706555,  0.2390604 ,  0.30614793,\n",
              "        0.31833357,  0.28546485,  0.28221068,  0.21556851,  0.29300097,\n",
              "        0.28432566,  0.24072233,  0.24926472,  0.21381316,  0.15750226,\n",
              "        0.21007276,  0.18105224,  0.14870003,  0.07312068,  0.11187926,\n",
              "        0.068275  ,  0.04796466,  0.02016905, -0.00589901, -0.01568663,\n",
              "        0.14821222,  0.13308522,  0.12085149,  0.04021439,  0.0624426 ,\n",
              "        0.02260536,  0.01434001,  0.03077984, -0.0209837 ,  0.76158512,\n",
              "        0.70178014,  0.38670409,  0.1421183 ,  0.30976778,  0.30638105,\n",
              "        0.29751205,  0.30971175,  0.39469355,  0.11428472,  0.1994741 ,\n",
              "        0.34315658,  0.22747269,  0.23067471,  0.25050381, -0.01574051,\n",
              "       -0.42566943,  0.12709936,  0.14100492,  0.13972586,  0.03958309,\n",
              "        0.01601201, -0.01391637, -0.07701039,  0.0281184 ,  0.05556723,\n",
              "        0.00272185,  0.01181412,  0.01757535,  0.04000953,  0.0624755 ,\n",
              "       -0.04071653, -0.03896815, -0.06965536, -0.20558137, -0.20340359])"
            ]
          },
          "metadata": {},
          "execution_count": 128
        }
      ]
    },
    {
      "cell_type": "markdown",
      "source": [
        "결과값 로그변환 및 압축"
      ],
      "metadata": {
        "id": "0dKz2Mbyef5k"
      }
    },
    {
      "cell_type": "code",
      "source": [
        "expm1_result = np.expm1(result)\n",
        "expm1_result = pd.DataFrame(columns=['label'],data=expm1_result)\n",
        "total_result = []\n",
        "for case in tqdm(range(1, 7)):\n",
        "    if case < 10:\n",
        "        case = '0'+str(case)\n",
        "    particular_label = pd.read_csv(f'data/test_target/TEST_{case}.csv')\n",
        "    particular_label['rate'] = list(expm1_result['label'][:len(particular_label)].values)\n",
        "    expm1_result = expm1_result.drop([i for i in range(len(particular_label))])\n",
        "    expm1_result = expm1_result.reset_index(drop=True)\n",
        "    total_result.append(particular_label)\n",
        "for i in range(len(total_result)):\n",
        "    total_result[i].to_csv(f'TEST_0{i+1}.csv', index=False)\n",
        "file_ls = ['TEST_01.csv','TEST_02.csv','TEST_03.csv','TEST_04.csv','TEST_05.csv','TEST_06.csv']\n",
        "with zipfile.ZipFile(\"submission.zip\", 'w') as my_zip:\n",
        "    for i in file_ls:\n",
        "        my_zip.write(i)\n",
        "    my_zip.close()"
      ],
      "metadata": {
        "colab": {
          "base_uri": "https://localhost:8080/"
        },
        "id": "ms8h4aq1eb7e",
        "outputId": "87bd4af3-7b38-447a-9ce8-b713ab6a2e7d"
      },
      "execution_count": null,
      "outputs": [
        {
          "output_type": "stream",
          "name": "stderr",
          "text": [
            "100%|██████████| 6/6 [00:00<00:00, 311.23it/s]\n"
          ]
        }
      ]
    },
    {
      "cell_type": "code",
      "source": [],
      "metadata": {
        "id": "thpmdoBRTzqd"
      },
      "execution_count": null,
      "outputs": []
    }
  ],
  "metadata": {
    "colab": {
      "collapsed_sections": [],
      "provenance": []
    },
    "gpuClass": "standard",
    "kernelspec": {
      "display_name": "Python 3",
      "name": "python3"
    },
    "language_info": {
      "name": "python"
    }
  },
  "nbformat": 4,
  "nbformat_minor": 0
}