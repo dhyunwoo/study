{
  "nbformat": 4,
  "nbformat_minor": 0,
  "metadata": {
    "colab": {
      "provenance": []
    },
    "kernelspec": {
      "name": "python3",
      "display_name": "Python 3"
    },
    "language_info": {
      "name": "python"
    }
  },
  "cells": [
    {
      "cell_type": "markdown",
      "source": [
        "- 브라우저에서 파이썬 이용 가능"
      ],
      "metadata": {
        "id": "DmmHaqiHnsPJ"
      }
    },
    {
      "cell_type": "code",
      "execution_count": 1,
      "metadata": {
        "colab": {
          "base_uri": "https://localhost:8080/"
        },
        "id": "1oDHlv0DnnMz",
        "outputId": "2c356f4a-1eff-4d92-8949-87e3ba5ffcff"
      },
      "outputs": [
        {
          "output_type": "stream",
          "name": "stdout",
          "text": [
            "Python\n"
          ]
        }
      ],
      "source": [
        "print ('Python')"
      ]
    },
    {
      "cell_type": "markdown",
      "source": [
        "더블클릭 또는 Enter 키를 눌러 수정\n",
        "\n",
        "- 코드 셀: 코드를 입력하고 실행하는 셀\n",
        "- 텍스트 셀 : 텍스트를 입력할 수 있는 셀"
      ],
      "metadata": {
        "id": "rH__ogDyn-sI"
      }
    },
    {
      "cell_type": "markdown",
      "source": [
        "마크다운 기반의 텍스트 작성이 있다.\n",
        "\n",
        "\n",
        "* `를 문장의 앞 뒤로 감싸주어 아래 모양과 같이 쓸 수 있다.\n",
        "\n",
        "` 구분할 수 있다. `\n"
      ],
      "metadata": {
        "id": "dSOT3yiso4qW"
      }
    },
    {
      "cell_type": "markdown",
      "source": [
        "* 표 만들기\n",
        "\n",
        "첫번째행 | 두번째 행\n",
        "--------|-------------\n",
        "3 | 5\n",
        "4 | 5"
      ],
      "metadata": {
        "id": "Gi39i7TRpZ0V"
      }
    },
    {
      "cell_type": "markdown",
      "source": [
        "* LATEX 문법을 통한 수식 작성 - \"$\"\n",
        "\n",
        "$\n",
        "f:A\\to B, A\\overset{f}{\\to}B\n",
        "$"
      ],
      "metadata": {
        "id": "f0bZvUvYppwD"
      }
    },
    {
      "cell_type": "markdown",
      "source": [
        "* 과거의 코드를 복구하고 싶을 때 **파일 -> 업데이트 기록 -> 버전 선택**"
      ],
      "metadata": {
        "id": "OR68lQFSqIsw"
      }
    }
  ]
}
