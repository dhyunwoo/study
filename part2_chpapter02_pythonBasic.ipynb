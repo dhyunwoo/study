{
  "nbformat": 4,
  "nbformat_minor": 0,
  "metadata": {
    "colab": {
      "provenance": []
    },
    "kernelspec": {
      "name": "python3",
      "display_name": "Python 3"
    },
    "language_info": {
      "name": "python"
    }
  },
  "cells": [
    {
      "cell_type": "markdown",
      "source": [
        "# 파이썬의 특징\n",
        "* 세미콜론(;)으로 끝을 맺지 않아도 된다.\n",
        "* 들여쓰기에 주의 필요"
      ],
      "metadata": {
        "id": "4RRgqbXhsxbd"
      }
    },
    {
      "cell_type": "code",
      "source": [
        "1+1\n",
        "    1+1"
      ],
      "metadata": {
        "colab": {
          "base_uri": "https://localhost:8080/",
          "height": 137
        },
        "id": "SQh7GanAttCX",
        "outputId": "7453b8fc-e2b8-4fc4-a042-581590d69e7d"
      },
      "execution_count": 2,
      "outputs": [
        {
          "output_type": "error",
          "ename": "IndentationError",
          "evalue": "ignored",
          "traceback": [
            "\u001b[0;36m  File \u001b[0;32m\"<ipython-input-2-46175fef9cad>\"\u001b[0;36m, line \u001b[0;32m2\u001b[0m\n\u001b[0;31m    1+1\u001b[0m\n\u001b[0m    ^\u001b[0m\n\u001b[0;31mIndentationError\u001b[0m\u001b[0;31m:\u001b[0m unexpected indent\n"
          ]
        }
      ]
    },
    {
      "cell_type": "markdown",
      "source": [
        "# 변수 \n",
        "* 문제 1 : a는 2, b는 3이다. a+b=?\n",
        "  * a와 b에 변수를 지정해 본다."
      ],
      "metadata": {
        "id": "c2SQj3iStsde"
      }
    },
    {
      "cell_type": "code",
      "source": [
        "a = 2\n",
        "b = 3\n",
        "\n",
        "a+b"
      ],
      "metadata": {
        "colab": {
          "base_uri": "https://localhost:8080/"
        },
        "id": "HZbU2uZfuJ6O",
        "outputId": "5b76cf11-92ff-4522-84dd-162c5f9ac731"
      },
      "execution_count": 3,
      "outputs": [
        {
          "output_type": "execute_result",
          "data": {
            "text/plain": [
              "5"
            ]
          },
          "metadata": {},
          "execution_count": 3
        }
      ]
    },
    {
      "cell_type": "markdown",
      "source": [
        "* 변수명 주의사항\n",
        "  * 영문자, 숫자, _ 조합으로 사용\n",
        "  * 첫번째에는 숫자가 먼저 올 수 없다\n",
        "  * 변수명 사이에 띄어쓰기 불가\n",
        "  * 대, 소문자 구분\n"
      ],
      "metadata": {
        "id": "YFEbXGzSvFsl"
      }
    },
    {
      "cell_type": "markdown",
      "source": [
        "# 자료형\n",
        "\n",
        " * 자료형: 저장되는 자료의 형태"
      ],
      "metadata": {
        "id": "bvB4b2Jvvb1L"
      }
    },
    {
      "cell_type": "markdown",
      "source": [
        "## 1) 숫자형\n",
        "* int: 정수의 형태\n",
        "  * 사칙연산 가능"
      ],
      "metadata": {
        "id": "kLNCsPCov7uJ"
      }
    },
    {
      "cell_type": "code",
      "source": [
        "a = 1\n",
        "b = 0\n",
        "c = 1.1\n",
        "d = 1.\n",
        "\n",
        "print(type(a))\n",
        "print(type(b))\n",
        "print(type(c))\n",
        "print(type(d))"
      ],
      "metadata": {
        "colab": {
          "base_uri": "https://localhost:8080/"
        },
        "id": "BiQXU0siwHIb",
        "outputId": "6a458e48-5a82-492e-ee31-6f99ceb33588"
      },
      "execution_count": 8,
      "outputs": [
        {
          "output_type": "stream",
          "name": "stdout",
          "text": [
            "<class 'int'>\n",
            "<class 'int'>\n",
            "<class 'float'>\n",
            "<class 'float'>\n"
          ]
        }
      ]
    },
    {
      "cell_type": "markdown",
      "source": [
        "## 2) 문자형\n",
        " * 문자를 만들기 위해서 \"\", ''를 감싸준다\n",
        " "
      ],
      "metadata": {
        "id": "JM9zOugvyFNz"
      }
    },
    {
      "cell_type": "code",
      "source": [
        "a = \"Hi\"\n",
        "\n",
        "print(a)"
      ],
      "metadata": {
        "colab": {
          "base_uri": "https://localhost:8080/"
        },
        "id": "nYU1eUItyWV3",
        "outputId": "8ed6b13c-8479-4763-98a3-3924350a1fc0"
      },
      "execution_count": 9,
      "outputs": [
        {
          "output_type": "stream",
          "name": "stdout",
          "text": [
            "Hi\n"
          ]
        }
      ]
    },
    {
      "cell_type": "markdown",
      "source": [
        "* 인덱스: 인덱스는 []를 통해 지정; 0부터 시작\n"
      ],
      "metadata": {
        "id": "tZLfaHGbydPH"
      }
    },
    {
      "cell_type": "code",
      "source": [
        "a = \"forensicEntomology\"\n",
        "\n",
        "print(a[0])"
      ],
      "metadata": {
        "colab": {
          "base_uri": "https://localhost:8080/"
        },
        "id": "TF9D3aMdycyI",
        "outputId": "c66ef289-46ab-440d-e557-4e4d1abbaf34"
      },
      "execution_count": 15,
      "outputs": [
        {
          "output_type": "stream",
          "name": "stdout",
          "text": [
            "f\n"
          ]
        }
      ]
    },
    {
      "cell_type": "markdown",
      "source": [
        "* 변수 a의 마지막 문자를 출력하시오"
      ],
      "metadata": {
        "id": "4cfFrQFpyyik"
      }
    },
    {
      "cell_type": "code",
      "source": [
        "print(a[-1])"
      ],
      "metadata": {
        "colab": {
          "base_uri": "https://localhost:8080/"
        },
        "id": "QVHVhlYvy4md",
        "outputId": "575961f4-4b19-4e35-e257-8c27f1407522"
      },
      "execution_count": 16,
      "outputs": [
        {
          "output_type": "stream",
          "name": "stdout",
          "text": [
            "y\n"
          ]
        }
      ]
    },
    {
      "cell_type": "markdown",
      "source": [
        "* 변수 a의 6~8번째 문자를 출력하시오"
      ],
      "metadata": {
        "id": "3mF6kDP6y-tf"
      }
    },
    {
      "cell_type": "code",
      "source": [
        "print(a[5:8])"
      ],
      "metadata": {
        "colab": {
          "base_uri": "https://localhost:8080/"
        },
        "id": "DXelpiTVzGuF",
        "outputId": "fa1f9100-3ab4-4cf5-c682-10c0ddb11980"
      },
      "execution_count": 17,
      "outputs": [
        {
          "output_type": "stream",
          "name": "stdout",
          "text": [
            "sic\n"
          ]
        }
      ]
    },
    {
      "cell_type": "markdown",
      "source": [
        "* 문자열의 합"
      ],
      "metadata": {
        "id": "ZOrBE0nRzyZc"
      }
    },
    {
      "cell_type": "code",
      "source": [
        "a = \"hello\"\n",
        "b = \"world\"\n",
        "\n",
        "a+b"
      ],
      "metadata": {
        "colab": {
          "base_uri": "https://localhost:8080/",
          "height": 35
        },
        "id": "kSK-GZ0oz0jd",
        "outputId": "3b69b57d-93b7-4e2c-ead0-343bc2129d92"
      },
      "execution_count": 18,
      "outputs": [
        {
          "output_type": "execute_result",
          "data": {
            "text/plain": [
              "'helloworld'"
            ],
            "application/vnd.google.colaboratory.intrinsic+json": {
              "type": "string"
            }
          },
          "metadata": {},
          "execution_count": 18
        }
      ]
    },
    {
      "cell_type": "markdown",
      "source": [
        "* 문자열의 곱"
      ],
      "metadata": {
        "id": "si8-81mAz7oF"
      }
    },
    {
      "cell_type": "code",
      "source": [
        "a*3"
      ],
      "metadata": {
        "colab": {
          "base_uri": "https://localhost:8080/",
          "height": 35
        },
        "id": "cdDkus7dz8VD",
        "outputId": "ac1cbf44-affa-4bcc-984e-8c27c6356925"
      },
      "execution_count": 19,
      "outputs": [
        {
          "output_type": "execute_result",
          "data": {
            "text/plain": [
              "'hellohellohello'"
            ],
            "application/vnd.google.colaboratory.intrinsic+json": {
              "type": "string"
            }
          },
          "metadata": {},
          "execution_count": 19
        }
      ]
    },
    {
      "cell_type": "markdown",
      "source": [
        "* 문자형과 숫자형을 동시 출력"
      ],
      "metadata": {
        "id": "ZAzIfUJZ0IxI"
      }
    },
    {
      "cell_type": "code",
      "source": [
        "a = \"apple \"\n",
        "b = 3\n",
        "\n",
        "print(a,b)\n",
        "print(a + str(b))"
      ],
      "metadata": {
        "colab": {
          "base_uri": "https://localhost:8080/"
        },
        "id": "-VH68yngz7CA",
        "outputId": "aced6a5d-53b1-4acf-dae4-3eed37de7a7d"
      },
      "execution_count": 24,
      "outputs": [
        {
          "output_type": "stream",
          "name": "stdout",
          "text": [
            "apple  3\n",
            "apple 3\n"
          ]
        }
      ]
    },
    {
      "cell_type": "markdown",
      "source": [
        "* 문자열 분쇄"
      ],
      "metadata": {
        "id": "Su8Z7AeA1iyD"
      }
    },
    {
      "cell_type": "code",
      "source": [
        "a = \"This is apple\"\n",
        "a.split()"
      ],
      "metadata": {
        "colab": {
          "base_uri": "https://localhost:8080/"
        },
        "id": "B7r0FrDK1ley",
        "outputId": "57926cc5-57ff-46eb-83c5-d234ad432768"
      },
      "execution_count": 25,
      "outputs": [
        {
          "output_type": "execute_result",
          "data": {
            "text/plain": [
              "['This', 'is', 'apple']"
            ]
          },
          "metadata": {},
          "execution_count": 25
        }
      ]
    },
    {
      "cell_type": "code",
      "source": [
        "a = \"This.is.apple\"\n",
        "a.split('.')"
      ],
      "metadata": {
        "colab": {
          "base_uri": "https://localhost:8080/"
        },
        "id": "wxIKUVGw1x5t",
        "outputId": "7a978257-334c-4f2a-adb0-6f286be88b49"
      },
      "execution_count": 26,
      "outputs": [
        {
          "output_type": "execute_result",
          "data": {
            "text/plain": [
              "['This', 'is', 'apple']"
            ]
          },
          "metadata": {},
          "execution_count": 26
        }
      ]
    },
    {
      "cell_type": "code",
      "source": [
        "a = \"This_is_apple\"\n",
        "a.split('_')"
      ],
      "metadata": {
        "colab": {
          "base_uri": "https://localhost:8080/"
        },
        "id": "FJ5FSVkg11yP",
        "outputId": "b7a5a3a6-f9db-4f84-85be-eb46b644c492"
      },
      "execution_count": 30,
      "outputs": [
        {
          "output_type": "execute_result",
          "data": {
            "text/plain": [
              "['This', 'is', 'apple']"
            ]
          },
          "metadata": {},
          "execution_count": 30
        }
      ]
    },
    {
      "cell_type": "markdown",
      "source": [
        "## 3) 튜플\n",
        "\n",
        "튜플(tuple)은 몇 가지 점을 제외하곤 리스트와 거의 비슷하며 리스트와 다른 점은 다\n",
        "다음과 같다.\n",
        "\n",
        "* 리스트는 [ ]으로 둘러싸지만 튜플은 ( )으로 둘러싼다.\n",
        "* 리스트는 요소 값의 생성, 삭제, 수정이 가능하지만 튜플은 요소 값을 바꿀 수 없다.\n",
        "\n",
        "```\n",
        ">>> t1 = ()\n",
        ">>> t2 = (1,)\n",
        ">>> t3 = (1, 2, 3)\n",
        ">>> t4 = 1, 2, 3\n",
        ">>> t5 = ('a', 'b', ('ab', 'cd'))\n",
        "\n",
        "```\n",
        "\n",
        "리스트와 모습은 거의 비슷하지만 튜플에서는 리스트와 다른 2가지 차이점을 찾아볼 수 있다. t2 = (1,)처럼 단지 1개의 요소만을 가질 때는 요소 뒤에 콤마(,)를 반드시 붙여야 한다는 것과 t4 = 1, 2, 3처럼 괄호( )를 생략해도 된다는 점이다.\n",
        "\n",
        "얼핏 보면 튜플과 리스트는 비슷한 역할을 하지만 프로그래밍을 할 때 튜플과 리스트는 구별해서 사용하는 것이 유리하다. 튜플과 리스트의 가장 큰 차이는 요솟값을 변화시킬 수 있는가 여부이다. 즉 리스트의 요솟값은 변화가 가능하고 튜플의 요솟값은 변화가 불가능하다. 따라서 프로그램이 실행되는 동안 요솟값이 항상 변하지 않기를 바란다거나 값이 바뀔까 걱정하고 싶지 않다면 주저하지 말고 튜플을 사용해야 한다. 이와는 반대로 수시로 그 값을 변화시켜야할 경우라면 리스트를 사용해야 한다. 실제 프로그램에서는 값이 변경되는 형태의 변수가 훨씬 많기 때문에 평균적으로 튜플보다는 리스트를 더 많이 사용한다.\n"
      ],
      "metadata": {
        "id": "jBaA61lM5ZXv"
      }
    },
    {
      "cell_type": "code",
      "source": [
        "a = (1, 2, 3)\n",
        "print(type(a))"
      ],
      "metadata": {
        "colab": {
          "base_uri": "https://localhost:8080/"
        },
        "id": "ZDCT8HJ35rLO",
        "outputId": "9d14986d-15e2-48ca-abeb-b5c244a54543"
      },
      "execution_count": 34,
      "outputs": [
        {
          "output_type": "stream",
          "name": "stdout",
          "text": [
            "<class 'tuple'>\n"
          ]
        }
      ]
    },
    {
      "cell_type": "markdown",
      "source": [
        "# 4) 딕셔너리\n",
        "\n",
        "사람은 누구든지 \"이름\" = \"홍길동\", \"생일\" = \"몇 월 며칠\" 등으로 나타낼 수 있다. 파이썬은 영리하게도 이러한 대응 관계를 나타낼 수 있는 자료형을 가지고 있다. 요즘 사용하는 대부분의 언어도 이러한 대응 관계를 나타내는 자료형을 갖고 있는데, 이를 연관 배열(Associative array) 또는 해시(Hash)라고 한다.\n",
        "\n",
        "파이썬에서는 이러한 자료형을 딕셔너리(Dictionary)라고 하는데, 단어 그대로 해석하면 사전이라는 뜻이다. 즉 \"people\"이라는 단어에 \"사람\", \"baseball\"이라는 단어에 \"야구\"라는 뜻이 부합되듯이 딕셔너리는 Key와 Value를 한 쌍으로 갖는 자료형이다. 예컨대 Key가 \"baseball\"이라면 Value는 \"야구\"가 될 것이다.\n",
        "\n",
        "딕셔너리는 리스트나 튜플처럼 순차적으로(sequential) 해당 요솟값을 구하지 않고 Key를 통해 Value를 얻는다. 이것이 바로 딕셔너리의 가장 큰 특징이다. baseball이라는 단어의 뜻을 찾기 위해 사전의 내용을 순차적으로 모두 검색하는 것이 아니라 baseball이라는 단어가 있는 곳만 펼쳐 보는 것이다.\n",
        "\n",
        "\n",
        "딕셔너리는 어떻게 만들까?\n",
        "---\n",
        "다음은 기본 딕셔너리의 모습이다.\n",
        "\n",
        "```\n",
        "{Key1:Value1, Key2:Value2, Key3:Value3, ...}\n",
        "```\n",
        "\n",
        "Key와 Value의 쌍 여러 개가 { }로 둘러싸여 있다. 각각의 요소는 Key : Value 형태로 이루어져 있고 쉼표(,)로 구분되어 있다.\n",
        "\n",
        "다음 딕셔너리 예를 살펴보자.\n",
        "\n",
        "```\n",
        ">>> dic = {'name':'pey', 'phone':'010-9999-1234', 'birth': '1118'}\n",
        "```\n",
        "\n",
        "위에서 Key는 각각 'name', 'phone', 'birth'이고, 각각의 Key에 해당하는 Value는 'pey', '010-9999-1234', '1118'이 된다."
      ],
      "metadata": {
        "id": "8vjpihSO6VIC"
      }
    },
    {
      "cell_type": "markdown",
      "source": [
        "# 4) 집합 자료형 (Set)\n",
        "\n",
        "```\n",
        ">>> s2 = set(\"Hello\")\n",
        ">>> s2\n",
        "{'e', 'H', 'l', 'o'}\n",
        "\n",
        "```\n",
        "\n",
        "* 중복을 허용하지 않는다.\n",
        "* 순서가 없다(Unordered)."
      ],
      "metadata": {
        "id": "eeSHR6AI8Sa-"
      }
    },
    {
      "cell_type": "markdown",
      "source": [
        "# 반복문\n",
        "## for\n",
        "\n",
        "for를 이용한 반복문은 아래와 같이 작성한다.\n",
        "\n",
        "```\n",
        " \n",
        " for 변수 in 반복 가능한 객체:\n",
        "     반복하여 실행할 내용\n",
        "\n",
        "\n",
        "```\n",
        "\n",
        "\n",
        "* 여기서 반복 가능한 객체는 아래와 같다.\n",
        "  - list\n",
        "  - range\n",
        "\n",
        "* 문제: 1부터 10까지 출력하시오\n",
        "  * list를 이용한 해결"
      ],
      "metadata": {
        "id": "eXejHOUzrPGY"
      }
    },
    {
      "cell_type": "code",
      "execution_count": 38,
      "metadata": {
        "colab": {
          "base_uri": "https://localhost:8080/"
        },
        "id": "Lhrk5wgjrFR2",
        "outputId": "a564ec17-014d-4784-f57e-37441d0f8fcc"
      },
      "outputs": [
        {
          "output_type": "stream",
          "name": "stdout",
          "text": [
            "1\n",
            "2\n",
            "3\n",
            "4\n",
            "5\n",
            "6\n",
            "7\n",
            "8\n",
            "9\n",
            "10\n"
          ]
        }
      ],
      "source": [
        "a = [1, 2, 3, 4, 5, 6, 7, 8, 9, 10]\n",
        "\n",
        "for i in a:\n",
        "    print(i)"
      ]
    },
    {
      "cell_type": "markdown",
      "source": [
        "* range를 이용한 해결"
      ],
      "metadata": {
        "id": "gIHzOauVsUOD"
      }
    },
    {
      "cell_type": "code",
      "source": [
        "for i in range(11):\n",
        "    print(i)"
      ],
      "metadata": {
        "colab": {
          "base_uri": "https://localhost:8080/"
        },
        "id": "PuEo5B7r9_Fc",
        "outputId": "510525cb-9b52-41e5-a3af-f134db8488bd"
      },
      "execution_count": 36,
      "outputs": [
        {
          "output_type": "stream",
          "name": "stdout",
          "text": [
            "0\n",
            "1\n",
            "2\n",
            "3\n",
            "4\n",
            "5\n",
            "6\n",
            "7\n",
            "8\n",
            "9\n",
            "10\n"
          ]
        }
      ]
    },
    {
      "cell_type": "markdown",
      "source": [
        "* 1부터 9까지 2씩 증가하면서 출력하시오"
      ],
      "metadata": {
        "id": "sPPWmyl8-zwP"
      }
    },
    {
      "cell_type": "code",
      "source": [
        " for i in range(1, 10, 2):\n",
        "     print(i)"
      ],
      "metadata": {
        "colab": {
          "base_uri": "https://localhost:8080/"
        },
        "id": "D7r66QJe-yMH",
        "outputId": "362429f5-8d11-4445-fcf9-a31830213758"
      },
      "execution_count": 42,
      "outputs": [
        {
          "output_type": "stream",
          "name": "stdout",
          "text": [
            "1\n",
            "3\n",
            "5\n",
            "7\n",
            "9\n"
          ]
        }
      ]
    },
    {
      "cell_type": "markdown",
      "source": [
        "* 9부터 1까지 2감소하면서 출력하시오"
      ],
      "metadata": {
        "id": "njJuvx-5_LJA"
      }
    },
    {
      "cell_type": "code",
      "source": [
        "for i in range(9, 1, -2):\n",
        "    print(i)"
      ],
      "metadata": {
        "colab": {
          "base_uri": "https://localhost:8080/"
        },
        "id": "ITT1Q6a-_Qcm",
        "outputId": "694551ac-30de-4706-a6d2-c67b97827767"
      },
      "execution_count": 44,
      "outputs": [
        {
          "output_type": "stream",
          "name": "stdout",
          "text": [
            "9\n",
            "7\n",
            "5\n",
            "3\n"
          ]
        }
      ]
    },
    {
      "cell_type": "markdown",
      "source": [
        "* 1부터 10까지의 자연수의 합을 구하시오"
      ],
      "metadata": {
        "id": "CPQaXWmG_W3I"
      }
    },
    {
      "cell_type": "code",
      "source": [
        "r = 0\n",
        "for i in range(1, 11, 1):\n",
        "    r = r + i\n",
        "\n",
        "print(r)"
      ],
      "metadata": {
        "colab": {
          "base_uri": "https://localhost:8080/"
        },
        "id": "GZjsb_uy_axo",
        "outputId": "9bbfdffd-e0e9-4c46-d256-3941d0d53b50"
      },
      "execution_count": 51,
      "outputs": [
        {
          "output_type": "stream",
          "name": "stdout",
          "text": [
            "55\n"
          ]
        }
      ]
    },
    {
      "cell_type": "markdown",
      "source": [
        "* 구구단을 출력하시오"
      ],
      "metadata": {
        "id": "Bya1xDWCAA2f"
      }
    },
    {
      "cell_type": "code",
      "source": [
        "for i in range(2, 10, 1):\n",
        "    for a in range(1, 10, 1):\n",
        "        print(i * a)"
      ],
      "metadata": {
        "colab": {
          "base_uri": "https://localhost:8080/"
        },
        "id": "KHIHpp59AAoD",
        "outputId": "4542bb0d-3928-47c0-f7e8-ec4f27afa673"
      },
      "execution_count": 55,
      "outputs": [
        {
          "output_type": "stream",
          "name": "stdout",
          "text": [
            "2\n",
            "4\n",
            "6\n",
            "8\n",
            "10\n",
            "12\n",
            "14\n",
            "16\n",
            "18\n",
            "3\n",
            "6\n",
            "9\n",
            "12\n",
            "15\n",
            "18\n",
            "21\n",
            "24\n",
            "27\n",
            "4\n",
            "8\n",
            "12\n",
            "16\n",
            "20\n",
            "24\n",
            "28\n",
            "32\n",
            "36\n",
            "5\n",
            "10\n",
            "15\n",
            "20\n",
            "25\n",
            "30\n",
            "35\n",
            "40\n",
            "45\n",
            "6\n",
            "12\n",
            "18\n",
            "24\n",
            "30\n",
            "36\n",
            "42\n",
            "48\n",
            "54\n",
            "7\n",
            "14\n",
            "21\n",
            "28\n",
            "35\n",
            "42\n",
            "49\n",
            "56\n",
            "63\n",
            "8\n",
            "16\n",
            "24\n",
            "32\n",
            "40\n",
            "48\n",
            "56\n",
            "64\n",
            "72\n",
            "9\n",
            "18\n",
            "27\n",
            "36\n",
            "45\n",
            "54\n",
            "63\n",
            "72\n",
            "81\n"
          ]
        }
      ]
    },
    {
      "cell_type": "markdown",
      "source": [
        "# 제어문 While\n",
        "\n",
        "While 조건:\n",
        "    반복하여 실행할 내용\n"
      ],
      "metadata": {
        "id": "H3mpgsclA7dd"
      }
    },
    {
      "cell_type": "code",
      "source": [
        " i = 1\n",
        " while i < 11:\n",
        "     print(1)\n",
        "     i = i + 1"
      ],
      "metadata": {
        "colab": {
          "base_uri": "https://localhost:8080/"
        },
        "id": "liS0TEhPA5pk",
        "outputId": "88a1c8c9-8ad8-4f42-d62f-ca4c255c2ba7"
      },
      "execution_count": 58,
      "outputs": [
        {
          "output_type": "stream",
          "name": "stdout",
          "text": [
            "1\n",
            "1\n",
            "1\n",
            "1\n",
            "1\n",
            "1\n",
            "1\n",
            "1\n",
            "1\n",
            "1\n"
          ]
        }
      ]
    },
    {
      "cell_type": "code",
      "source": [
        "# 1부터 10까지의 자연수의 합을 구하시오\n",
        "\n",
        "i = 1\n",
        "r = 0\n",
        "\n",
        "while i < 11:\n",
        "    r += i #r + r + 1\n",
        "    i += 1 #i + i + 1\n",
        "print(r)"
      ],
      "metadata": {
        "colab": {
          "base_uri": "https://localhost:8080/"
        },
        "id": "qIUjGdzaBKKM",
        "outputId": "b0d2b884-0276-4ea0-9eba-bc598ba1d702"
      },
      "execution_count": 69,
      "outputs": [
        {
          "output_type": "stream",
          "name": "stdout",
          "text": [
            "55\n"
          ]
        }
      ]
    },
    {
      "cell_type": "markdown",
      "source": [
        "# if 조건문"
      ],
      "metadata": {
        "id": "nK1a6EK_DOk3"
      }
    },
    {
      "cell_type": "code",
      "source": [
        "# x가 5보다 작으면 5미만, 많으면 5이상으로 출력하시오\n",
        "\n",
        "x = 4\n",
        "if x < 5:\n",
        "    print('lower 5')\n",
        "elif x == 5:\n",
        "    print('5')\n",
        "else:\n",
        "    print('upper 5')  \n"
      ],
      "metadata": {
        "colab": {
          "base_uri": "https://localhost:8080/"
        },
        "id": "mQHb-RPEDOLt",
        "outputId": "ba6df1be-f7c3-4daa-b0af-604c8376627d"
      },
      "execution_count": 87,
      "outputs": [
        {
          "output_type": "stream",
          "name": "stdout",
          "text": [
            "lower 5\n"
          ]
        }
      ]
    },
    {
      "cell_type": "markdown",
      "source": [
        "# List Comprehension\n",
        "조건문 반목문을 짧게 해결 할 수 있음\n"
      ],
      "metadata": {
        "id": "IZRyw_88FD7E"
      }
    },
    {
      "cell_type": "code",
      "source": [
        "# 변수 a에 1부터 10까지 삽입하십시오.\n",
        "\n",
        "a = []\n",
        "for i in range(1, 11, 1):\n",
        "    a.append(i)\n",
        "print(a)"
      ],
      "metadata": {
        "colab": {
          "base_uri": "https://localhost:8080/"
        },
        "id": "D7RkdXOfFNVa",
        "outputId": "28fb3341-0312-42ec-d28a-4b906349911e"
      },
      "execution_count": 88,
      "outputs": [
        {
          "output_type": "stream",
          "name": "stdout",
          "text": [
            "[1, 2, 3, 4, 5, 6, 7, 8, 9, 10]\n"
          ]
        }
      ]
    },
    {
      "cell_type": "code",
      "source": [
        "# 변수 a에 1부터 10까지 삽입하십시오.\n",
        "\n",
        "a = [i for i in range(1, 11, 1)]\n",
        "print(a)"
      ],
      "metadata": {
        "colab": {
          "base_uri": "https://localhost:8080/"
        },
        "id": "UWDjskqKFdVq",
        "outputId": "1f92b9e0-6190-4c39-9be9-39da640bebab"
      },
      "execution_count": 90,
      "outputs": [
        {
          "output_type": "stream",
          "name": "stdout",
          "text": [
            "[1, 2, 3, 4, 5, 6, 7, 8, 9, 10]\n"
          ]
        }
      ]
    },
    {
      "cell_type": "code",
      "source": [
        "# 변수 a에는 A반의 수학점수가 저장되어 있다. 이 중 80점 이상의 점수만 걸러내어라\n",
        "\n",
        "a = [90, 60, 40, 70, 98, 87, 45, 66, 100]\n",
        "\n",
        "r = [i for i in a if i >= 80]\n",
        "print(r)"
      ],
      "metadata": {
        "colab": {
          "base_uri": "https://localhost:8080/"
        },
        "id": "_HbGBTkXFq9_",
        "outputId": "671ed587-0279-417d-8cc4-6d38a49ac044"
      },
      "execution_count": 94,
      "outputs": [
        {
          "output_type": "stream",
          "name": "stdout",
          "text": [
            "[90, 98, 87, 100]\n"
          ]
        }
      ]
    },
    {
      "cell_type": "markdown",
      "source": [
        "# 함수 만들기"
      ],
      "metadata": {
        "id": "bdyyqSgfHCO_"
      }
    },
    {
      "cell_type": "code",
      "source": [
        "# x를 입력값으로 넣으면 x+1을 출력하는 함수 생성\n",
        "\n",
        "def f1(x):\n",
        "    r = x + 1\n",
        "    return r\n",
        "\n",
        "a = f1(2)\n",
        "print(a)"
      ],
      "metadata": {
        "colab": {
          "base_uri": "https://localhost:8080/"
        },
        "id": "7dFKFIdkHFhJ",
        "outputId": "a0e83269-ed9b-4a51-ac23-5eded7468ed3"
      },
      "execution_count": 99,
      "outputs": [
        {
          "output_type": "stream",
          "name": "stdout",
          "text": [
            "3\n"
          ]
        }
      ]
    },
    {
      "cell_type": "markdown",
      "source": [
        "# 외부 라이브러리 사용\n"
      ],
      "metadata": {
        "id": "FoBxSU-yIV0N"
      }
    },
    {
      "cell_type": "code",
      "source": [
        "# 라이브러리 다운로드\n",
        "\n",
        "!pip install pandas"
      ],
      "metadata": {
        "colab": {
          "base_uri": "https://localhost:8080/"
        },
        "id": "DuRzavxlIbpf",
        "outputId": "c9b36d0f-284a-4d9e-ca75-39ec057d6135"
      },
      "execution_count": 101,
      "outputs": [
        {
          "output_type": "stream",
          "name": "stdout",
          "text": [
            "Looking in indexes: https://pypi.org/simple, https://us-python.pkg.dev/colab-wheels/public/simple/\n",
            "Requirement already satisfied: pandas in /usr/local/lib/python3.9/dist-packages (1.5.3)\n",
            "Requirement already satisfied: numpy>=1.20.3 in /usr/local/lib/python3.9/dist-packages (from pandas) (1.22.4)\n",
            "Requirement already satisfied: pytz>=2020.1 in /usr/local/lib/python3.9/dist-packages (from pandas) (2022.7.1)\n",
            "Requirement already satisfied: python-dateutil>=2.8.1 in /usr/local/lib/python3.9/dist-packages (from pandas) (2.8.2)\n",
            "Requirement already satisfied: six>=1.5 in /usr/local/lib/python3.9/dist-packages (from python-dateutil>=2.8.1->pandas) (1.16.0)\n"
          ]
        }
      ]
    },
    {
      "cell_type": "code",
      "source": [
        "import pandas as pd\n"
      ],
      "metadata": {
        "id": "wLdOCp7RIehI"
      },
      "execution_count": 103,
      "outputs": []
    },
    {
      "cell_type": "code",
      "source": [],
      "metadata": {
        "id": "FblJJxzeI8TQ"
      },
      "execution_count": null,
      "outputs": []
    }
  ]
}