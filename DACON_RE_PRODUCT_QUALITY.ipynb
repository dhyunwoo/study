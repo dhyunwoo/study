{
  "nbformat": 4,
  "nbformat_minor": 0,
  "metadata": {
    "colab": {
      "provenance": []
    },
    "kernelspec": {
      "name": "python3",
      "display_name": "Python 3"
    },
    "language_info": {
      "name": "python"
    }
  },
  "cells": [
    {
      "cell_type": "code",
      "execution_count": 2,
      "metadata": {
        "colab": {
          "base_uri": "https://localhost:8080/"
        },
        "id": "Z3pehlUw1nK3",
        "outputId": "62f3985c-45d9-40ae-c3e8-88d63e7bf5b8"
      },
      "outputs": [
        {
          "output_type": "stream",
          "name": "stdout",
          "text": [
            "Drive already mounted at /content/drive; to attempt to forcibly remount, call drive.mount(\"/content/drive\", force_remount=True).\n",
            "/content/drive/MyDrive/Colab/DACON_REV\n"
          ]
        }
      ],
      "source": [
        "# Mount\n",
        "from google.colab import drive\n",
        "drive.mount('/content/drive')\n",
        "%cd /content/drive/MyDrive/Colab/DACON_REV"
      ]
    },
    {
      "cell_type": "code",
      "source": [
        "# KOR font\n",
        "from matplotlib import pyplot as plt\n",
        "plt.rc('font', family='NanumBarunGothic')"
      ],
      "metadata": {
        "id": "uejvSsv81-Tg"
      },
      "execution_count": 3,
      "outputs": []
    },
    {
      "cell_type": "code",
      "source": [
        "!pip install catboost"
      ],
      "metadata": {
        "colab": {
          "base_uri": "https://localhost:8080/"
        },
        "id": "kysWYKTg3WAF",
        "outputId": "871524d6-2977-48a0-f5dc-25cce20f6b93"
      },
      "execution_count": 4,
      "outputs": [
        {
          "output_type": "stream",
          "name": "stdout",
          "text": [
            "Looking in indexes: https://pypi.org/simple, https://us-python.pkg.dev/colab-wheels/public/simple/\n",
            "Collecting catboost\n",
            "  Downloading catboost-1.2-cp310-cp310-manylinux2014_x86_64.whl (98.6 MB)\n",
            "\u001b[2K     \u001b[90m━━━━━━━━━━━━━━━━━━━━━━━━━━━━━━━━━━━━━━━━\u001b[0m \u001b[32m98.6/98.6 MB\u001b[0m \u001b[31m10.6 MB/s\u001b[0m eta \u001b[36m0:00:00\u001b[0m\n",
            "\u001b[?25hRequirement already satisfied: graphviz in /usr/local/lib/python3.10/dist-packages (from catboost) (0.20.1)\n",
            "Requirement already satisfied: matplotlib in /usr/local/lib/python3.10/dist-packages (from catboost) (3.7.1)\n",
            "Requirement already satisfied: numpy>=1.16.0 in /usr/local/lib/python3.10/dist-packages (from catboost) (1.22.4)\n",
            "Requirement already satisfied: pandas>=0.24 in /usr/local/lib/python3.10/dist-packages (from catboost) (1.5.3)\n",
            "Requirement already satisfied: scipy in /usr/local/lib/python3.10/dist-packages (from catboost) (1.10.1)\n",
            "Requirement already satisfied: plotly in /usr/local/lib/python3.10/dist-packages (from catboost) (5.13.1)\n",
            "Requirement already satisfied: six in /usr/local/lib/python3.10/dist-packages (from catboost) (1.16.0)\n",
            "Requirement already satisfied: python-dateutil>=2.8.1 in /usr/local/lib/python3.10/dist-packages (from pandas>=0.24->catboost) (2.8.2)\n",
            "Requirement already satisfied: pytz>=2020.1 in /usr/local/lib/python3.10/dist-packages (from pandas>=0.24->catboost) (2022.7.1)\n",
            "Requirement already satisfied: contourpy>=1.0.1 in /usr/local/lib/python3.10/dist-packages (from matplotlib->catboost) (1.1.0)\n",
            "Requirement already satisfied: cycler>=0.10 in /usr/local/lib/python3.10/dist-packages (from matplotlib->catboost) (0.11.0)\n",
            "Requirement already satisfied: fonttools>=4.22.0 in /usr/local/lib/python3.10/dist-packages (from matplotlib->catboost) (4.40.0)\n",
            "Requirement already satisfied: kiwisolver>=1.0.1 in /usr/local/lib/python3.10/dist-packages (from matplotlib->catboost) (1.4.4)\n",
            "Requirement already satisfied: packaging>=20.0 in /usr/local/lib/python3.10/dist-packages (from matplotlib->catboost) (23.1)\n",
            "Requirement already satisfied: pillow>=6.2.0 in /usr/local/lib/python3.10/dist-packages (from matplotlib->catboost) (8.4.0)\n",
            "Requirement already satisfied: pyparsing>=2.3.1 in /usr/local/lib/python3.10/dist-packages (from matplotlib->catboost) (3.1.0)\n",
            "Requirement already satisfied: tenacity>=6.2.0 in /usr/local/lib/python3.10/dist-packages (from plotly->catboost) (8.2.2)\n",
            "Installing collected packages: catboost\n",
            "Successfully installed catboost-1.2\n"
          ]
        }
      ]
    },
    {
      "cell_type": "code",
      "source": [
        "# Import\n",
        "\n",
        "import os\n",
        "import random\n",
        "import pandas as pd\n",
        "import numpy as np\n",
        "import sklearn\n",
        "import catboost\n",
        "\n",
        "from sklearn.preprocessing import LabelEncoder\n",
        "from sklearn.metrics import f1_score\n",
        "from datetime import datetime\n"
      ],
      "metadata": {
        "id": "QLEp3j0r2Hc8"
      },
      "execution_count": 22,
      "outputs": []
    },
    {
      "cell_type": "code",
      "source": [
        "def seed_everything(seed):\n",
        "    random.seed(seed)\n",
        "    os.environ['PYTHONHASHSEED'] = str(seed)\n",
        "    np.random.seed(seed)\n",
        "seed_everything(37) # Seed 고정"
      ],
      "metadata": {
        "id": "xmkpSxc-3dYB"
      },
      "execution_count": 23,
      "outputs": []
    },
    {
      "cell_type": "code",
      "source": [
        "# Data load\n",
        "train_df = pd.read_csv('./train.csv')\n",
        "test_df = pd.read_csv('./test.csv')"
      ],
      "metadata": {
        "id": "w36Y0IB23n1F"
      },
      "execution_count": 24,
      "outputs": []
    },
    {
      "cell_type": "code",
      "source": [
        "#train_df"
      ],
      "metadata": {
        "id": "pxmEiBDYJJRs"
      },
      "execution_count": 25,
      "outputs": []
    },
    {
      "cell_type": "code",
      "source": [
        "# Data Pre-processing\n",
        "tr_month =[]\n",
        "tr_day = []\n",
        "tr_hour =[]\n",
        "tr_minute = []\n",
        "for i in range(train_df.shape[0]):\n",
        "  tr_month.append(datetime.strptime(train_df.iloc[i,:]['TIMESTAMP'],'%Y-%m-%d %H:%M').month)\n",
        "  tr_day.append(datetime.strptime(train_df.iloc[i,:]['TIMESTAMP'],'%Y-%m-%d %H:%M').day)\n",
        "  tr_hour.append(datetime.strptime(train_df.iloc[i,:]['TIMESTAMP'],'%Y-%m-%d %H:%M').hour)\n",
        "  tr_minute.append(datetime.strptime(train_df.iloc[i,:]['TIMESTAMP'],'%Y-%m-%d %H:%M').minute)\n",
        "\n",
        "train_df['MONTH'] = tr_month\n",
        "train_df['DAY'] = tr_day\n",
        "train_df['HOUR'] = tr_hour\n",
        "train_df['MINUTE'] = tr_minute\n",
        "\n",
        "\n",
        "te_month =[]\n",
        "te_day = []\n",
        "te_hour =[]\n",
        "te_minute = []\n",
        "for i in range(test_df.shape[0]):\n",
        "  te_month.append(datetime.strptime(test_df.iloc[i,:]['TIMESTAMP'],'%Y-%m-%d %H:%M').month)\n",
        "  te_day.append(datetime.strptime(test_df.iloc[i,:]['TIMESTAMP'],'%Y-%m-%d %H:%M').day)\n",
        "  te_hour.append(datetime.strptime(test_df.iloc[i,:]['TIMESTAMP'],'%Y-%m-%d %H:%M').hour)\n",
        "  te_minute.append(datetime.strptime(test_df.iloc[i,:]['TIMESTAMP'],'%Y-%m-%d %H:%M').minute)\n",
        "\n",
        "test_df['MONTH'] = te_month\n",
        "test_df['DAY'] = te_day\n",
        "test_df['HOUR'] = te_hour\n",
        "test_df['MINUTE'] = te_minute"
      ],
      "metadata": {
        "id": "MVTTktvUI5GG"
      },
      "execution_count": 26,
      "outputs": []
    },
    {
      "cell_type": "code",
      "source": [
        "# TIMESTAMP 피쳐 제거\n",
        "train_df=train_df.drop(columns=['TIMESTAMP'])\n",
        "test_df=test_df.drop(columns=['TIMESTAMP'])\n"
      ],
      "metadata": {
        "id": "9WpQZIfFLlNh"
      },
      "execution_count": 27,
      "outputs": []
    },
    {
      "cell_type": "code",
      "source": [
        "#전부 NAN값인 피쳐 제거\n",
        "a=[]\n",
        "A = pd.DataFrame(train_df.isnull().sum(),columns=['sum'])\n",
        "a = list(A[A['sum']==train_df.shape[0]].index)\n",
        "train_df.drop(columns=a,inplace=True)\n",
        "test_df.drop(columns=a, inplace=True)"
      ],
      "metadata": {
        "id": "ERFG5sX6LuPt"
      },
      "execution_count": 28,
      "outputs": []
    },
    {
      "cell_type": "code",
      "source": [
        "#분산이 1인 피쳐 제거\n",
        "a=[]\n",
        "for c in train_df.columns:\n",
        "  if  train_df[c].nunique()==1:\n",
        "    a.append(c)\n",
        "train_df.drop(columns=a, inplace=True)\n",
        "test_df.drop(columns=a, inplace=True)"
      ],
      "metadata": {
        "id": "EJowonxAL9Lu"
      },
      "execution_count": 29,
      "outputs": []
    },
    {
      "cell_type": "code",
      "source": [
        "# 3,4번 라인 피쳐 분석\n",
        "groups_lines=train_df.groupby('LINE')\n",
        "line=0\n",
        "for name, group in groups_lines:\n",
        "    line+=1\n",
        "    globals()['group_line{}_df'.format(line)] = groups_lines.get_group(name)\n",
        "non_null_counts_3 = group_line3_df.notnull().sum()\n",
        "non_null_cols_3 = non_null_counts_3[non_null_counts_3 > 0].index.tolist()\n",
        "\n",
        "grouped3 = group_line3_df.groupby(group_line3_df.isnull().apply(tuple, axis=1))\n",
        "cnt=0\n",
        "for name, group in grouped3:\n",
        "    cnt+=1\n",
        "    globals()['line3_{}_df'.format(cnt)] = grouped3.get_group(name)\n",
        "for i in range(1,cnt+1):\n",
        "  globals()['non_null_cols3_{}'.format(i)] = globals()['line3_{}_df'.format(i)].columns[globals()['line3_{}_df'.format(i)].notnull().all()].tolist()\n",
        "  del globals()['non_null_cols3_{}'.format(i)][globals()['non_null_cols3_{}'.format(i)].index('PRODUCT_ID')]\n",
        "\n",
        "grouped4 = group_line4_df.groupby(group_line4_df.isnull().apply(tuple, axis=1))\n",
        "cnt=0\n",
        "for name, group in grouped4:\n",
        "    cnt+=1\n",
        "    globals()['line4_{}_df'.format(cnt)] = grouped4.get_group(name)\n",
        "for i in range(1,cnt+1):\n",
        "  globals()['non_null_cols4_{}'.format(i)] = globals()['line4_{}_df'.format(i)].columns[globals()['line4_{}_df'.format(i)].notnull().all()].tolist()\n",
        "  del globals()['non_null_cols4_{}'.format(i)][globals()['non_null_cols4_{}'.format(i)].index('PRODUCT_ID')]\n",
        "\n",
        "# 3번라인과 4번라인 피쳐들의 합집합구하기\n",
        "col_34=[]\n",
        "for i in non_null_cols3_3:\n",
        "  if i not in col_34:\n",
        "    col_34.append(i)\n",
        "for j in non_null_cols4_1:\n",
        "  if j not in col_34:\n",
        "    col_34.append(j)\n",
        "\n",
        "# 3,4번 라인 튜닝용 데이터 셋 저장\n",
        "col_34_train = col_34\n",
        "train_x = train_df[col_34_train]\n",
        "col_34_test = col_34\n",
        "del col_34_test[col_34_test.index('Y_Quality')]\n",
        "del col_34_test[col_34_test.index('Y_Class')]\n",
        "test_x = test_df[col_34_test]\n",
        "\n",
        "train_x34 = train_x[train_x['LINE'].isin(['T050304','T050307'])]\n",
        "test_x34 = test_x[test_x['LINE'].isin(['T050304','T050307'])]"
      ],
      "metadata": {
        "id": "nHpzw3rDL-Qi"
      },
      "execution_count": 30,
      "outputs": []
    },
    {
      "cell_type": "code",
      "source": [
        "# 전체 학습용 데이터 결측값 전처리\n",
        "train_x = train_df.drop(columns=['PRODUCT_ID'])\n",
        "test_x = test_df.drop(columns=['PRODUCT_ID'])\n",
        "train_x = train_x.fillna(0)\n",
        "test_x = test_x.fillna(0)"
      ],
      "metadata": {
        "id": "itlafk-CMA0o"
      },
      "execution_count": 31,
      "outputs": []
    },
    {
      "cell_type": "code",
      "source": [
        "qual_col = ['LINE', 'PRODUCT_CODE']\n",
        "for i in qual_col:\n",
        "    le = LabelEncoder()\n",
        "    le = le.fit(train_x[i])\n",
        "    train_x[i] = le.transform(train_x[i])\n",
        "\n",
        "    for label in np.unique(test_x[i]):\n",
        "        if label not in le.classes_:\n",
        "            le.classes_ = np.append(le.classes_, label)\n",
        "    test_x[i] = le.transform(test_x[i])\n",
        "\n",
        "train_y = train_x['Y_Quality']\n",
        "train_yy = train_x['Y_Class']\n",
        "train_x.drop(columns=['Y_Quality','Y_Class'],inplace=True)"
      ],
      "metadata": {
        "id": "QchWmoZKMDpG"
      },
      "execution_count": 32,
      "outputs": []
    },
    {
      "cell_type": "code",
      "source": [
        "for i,c in enumerate(train_x34.columns[~train_x34.columns.isin(['Y_Quality','Y_Class','LINE','PRODUCT_CODE'])]):\n",
        "  train_x34[c].fillna(0,inplace=True)\n",
        "  test_x34[c].fillna(0,inplace=True)\n",
        "\n",
        "yy_train34 = train_x34['Y_Class']\n",
        "train_x34 = train_x34.drop(columns=['Y_Class', 'Y_Quality','LINE','PRODUCT_CODE'])\n",
        "test_x34 = test_x34.drop(columns=['LINE','PRODUCT_CODE'])"
      ],
      "metadata": {
        "id": "BSdiP_IpME-y"
      },
      "execution_count": 33,
      "outputs": []
    },
    {
      "cell_type": "code",
      "source": [
        "# Model Fit & Inference"
      ],
      "metadata": {
        "id": "49aAh1YDMGZZ"
      },
      "execution_count": 34,
      "outputs": []
    },
    {
      "cell_type": "code",
      "source": [
        "# regressor\n",
        "reg = catboost.CatBoostRegressor(learning_rate=0.05, iterations=500, verbose=0)\n",
        "reg.fit(train_x, train_y, early_stopping_rounds=100, cat_features=['PRODUCT_CODE', 'LINE'])\n",
        "\n",
        "pre_preds = reg.predict(test_x)\n",
        "\n",
        "a = train_df[['Y_Class','Y_Quality']].groupby('Y_Class').agg(['mean', 'min', 'max', 'count'])\n",
        "\n",
        "preds=[]\n",
        "for p in pre_preds:\n",
        "  if p<=a[('Y_Quality','max')][0]:\n",
        "    preds.append(0)\n",
        "  elif p<=a[('Y_Quality','min')][2]:\n",
        "    preds.append(1)\n",
        "  else:\n",
        "    preds.append(2)\n",
        "\n",
        "RR = test_x"
      ],
      "metadata": {
        "id": "V6eLfPUiMJvI"
      },
      "execution_count": null,
      "outputs": []
    },
    {
      "cell_type": "code",
      "source": [
        "# 3,4 line classifier\n",
        "clf = catboost.CatBoostClassifier(random_seed=37,iterations=500, verbose=0)\n",
        "clf.fit(train_x34, yy_train34)\n",
        "y_preds = clf.predict(test_x34)\n",
        "\n",
        "a = RR[(RR['LINE']==2)|(RR['LINE']==3)].index\n",
        "temp = preds\n",
        "for i in range(len(a)):\n",
        "  temp[a[i]]=y_preds[i][0]"
      ],
      "metadata": {
        "id": "2b5UoRQgMKwn"
      },
      "execution_count": null,
      "outputs": []
    },
    {
      "cell_type": "code",
      "source": [
        "# Submit\n",
        "submit = pd.read_csv('./sample_submission.csv')\n",
        "submit['Y_Class'] = temp\n",
        "submit.to_csv('./sample_submission.csv', index=False)"
      ],
      "metadata": {
        "id": "0JLx1efKMMkh"
      },
      "execution_count": null,
      "outputs": []
    },
    {
      "cell_type": "code",
      "source": [],
      "metadata": {
        "id": "Okh66k5JMPhO"
      },
      "execution_count": null,
      "outputs": []
    }
  ]
}